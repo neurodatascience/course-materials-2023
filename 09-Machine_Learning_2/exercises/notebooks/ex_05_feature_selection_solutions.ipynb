{
 "cells": [
  {
   "cell_type": "code",
   "execution_count": null,
   "id": "d8ff7f75",
   "metadata": {},
   "outputs": [],
   "source": [
    "from sklearn.datasets import make_regression\n",
    "from sklearn.linear_model import Ridge\n",
    "from sklearn.feature_selection import SelectKBest, f_regression\n",
    "from sklearn.model_selection import cross_validate\n",
    "from sklearn.pipeline import make_pipeline\n",
    "from matplotlib import pyplot as plt"
   ]
  },
  {
   "cell_type": "code",
   "execution_count": null,
   "id": "e25270a5",
   "metadata": {},
   "outputs": [],
   "source": [
    "X, y = make_regression(noise=10, n_features=5000, random_state=0)"
   ]
  },
  {
   "cell_type": "markdown",
   "id": "498ec8fd",
   "metadata": {},
   "source": [
    "Question: what is the issue with the code below?"
   ]
  },
  {
   "cell_type": "code",
   "execution_count": null,
   "id": "ec629c66",
   "metadata": {},
   "outputs": [],
   "source": [
    "X_reduced = SelectKBest(f_regression).fit_transform(X, y)\n",
    "scores = cross_validate(Ridge(), X_reduced, y)[\"test_score\"]\n",
    "print(\"feature selection in 'preprocessing':\", scores)"
   ]
  },
  {
   "cell_type": "markdown",
   "id": "43f86af8",
   "metadata": {},
   "source": [
    "Now fitting the whole pipeline on the training set only"
   ]
  },
  {
   "cell_type": "code",
   "execution_count": null,
   "id": "f2dcd649",
   "metadata": {},
   "outputs": [],
   "source": [
    "# TODO:\n",
    "# - use `make_pipeline` to create a pipeline chaining a `SelectKBest` and a\n",
    "#   `Ridge`\n",
    "# - use `cross_validate` to obtain cross-validation scores for the whole\n",
    "#   pipeline treated as a single model\n",
    "# See: https://scikit-learn.org/stable/modules/generated/sklearn.pipeline.make_pipeline.html\n",
    "model = \"make_pipeline(???)\"\n",
    "scores_pipe = ()\n",
    "# TODO_BEGIN\n",
    "model = make_pipeline(SelectKBest(f_regression), Ridge())\n",
    "scores_pipe = cross_validate(model, X, y)[\"test_score\"]\n",
    "# TODO_END\n",
    "print(\"feature selection on train set:\", scores_pipe)"
   ]
  },
  {
   "cell_type": "code",
   "execution_count": null,
   "id": "77d47ac6",
   "metadata": {},
   "outputs": [],
   "source": [
    "plt.boxplot(\n",
    "    [scores_pipe, scores],\n",
    "    vert=False,\n",
    "    labels=[\n",
    "        \"feature selection on train set\",\n",
    "        \"feature selection on whole data\",\n",
    "    ],\n",
    ")\n",
    "plt.gca().set_xlabel(\"R² score\")\n",
    "plt.tight_layout()\n",
    "plt.show()"
   ]
  }
 ],
 "metadata": {
  "jupytext": {
   "cell_metadata_filter": "-all",
   "main_language": "python",
   "notebook_metadata_filter": "-all"
  }
 },
 "nbformat": 4,
 "nbformat_minor": 5
}
