{
 "cells": [
  {
   "cell_type": "code",
   "execution_count": null,
   "id": "d7d01874",
   "metadata": {},
   "outputs": [],
   "source": [
    "from sklearn.datasets import make_regression\n",
    "from sklearn import model_selection\n",
    "from sklearn.linear_model import Ridge\n",
    "\n",
    "# import pickle"
   ]
  },
  {
   "cell_type": "code",
   "execution_count": null,
   "id": "c6386107",
   "metadata": {},
   "outputs": [],
   "source": [
    "X, y = make_regression(noise=10, random_state=0)\n",
    "model = Ridge()"
   ]
  },
  {
   "cell_type": "code",
   "execution_count": null,
   "id": "09213b4e",
   "metadata": {},
   "outputs": [],
   "source": [
    "# TODO: using an appropriate function from scikit-learn, compute\n",
    "# cross-validation scores for a ridge regression on this dataset. What\n",
    "# cross-validation strategy is used? what do the scores represent -- what\n",
    "# performance metric is used?\n",
    "# What is a good choice for k?\n",
    "# Hint:\n",
    "#  - see cross_validate: https://scikit-learn.org/stable/modules/generated/sklearn.model_selection.cross_validate.html\n",
    "#  - or cross_val_score (very similar, a simpler interface to cross_validate): https://scikit-learn.org/stable/modules/generated/sklearn.model_selection.cross_val_score.html\n",
    "scores = \"???\"\n",
    "# TODO_BEGIN\n",
    "scores = model_selection.cross_validate(\n",
    "    model, X, y, scoring=\"neg_mean_squared_error\", cv=model_selection.KFold(5)\n",
    ")\n",
    "# TODO_END\n",
    "print(f\"\\nCross-validation result:\\n\\n{scores}\")"
   ]
  },
  {
   "cell_type": "code",
   "execution_count": null,
   "id": "bd0d2dd5",
   "metadata": {},
   "outputs": [],
   "source": [
    "# if I am satisfied with scores\n",
    "model.fit(X, y)\n",
    "# with open(\"/tmp/model_ready_for_production.pkl\", \"wb\") as f:\n",
    "#     pickle.dump(model, f)"
   ]
  }
 ],
 "metadata": {
  "jupytext": {
   "cell_metadata_filter": "-all",
   "main_language": "python",
   "notebook_metadata_filter": "-all"
  }
 },
 "nbformat": 4,
 "nbformat_minor": 5
}
