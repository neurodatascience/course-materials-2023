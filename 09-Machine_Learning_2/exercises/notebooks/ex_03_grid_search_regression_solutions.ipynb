{
 "cells": [
  {
   "cell_type": "code",
   "execution_count": null,
   "id": "1db40105",
   "metadata": {},
   "outputs": [],
   "source": [
    "from sklearn.datasets import make_regression\n",
    "from sklearn.linear_model import Ridge, RidgeCV\n",
    "from sklearn.model_selection import cross_validate, GridSearchCV"
   ]
  },
  {
   "cell_type": "code",
   "execution_count": null,
   "id": "d2649dab",
   "metadata": {},
   "outputs": [],
   "source": [
    "X, y = make_regression(noise=2.5, n_samples=500, n_features=600, random_state=0)"
   ]
  },
  {
   "cell_type": "code",
   "execution_count": null,
   "id": "269fafe9",
   "metadata": {},
   "outputs": [],
   "source": [
    "# TODO: try a few different values of alpha\n",
    "model = Ridge(alpha=1e4)"
   ]
  },
  {
   "cell_type": "code",
   "execution_count": null,
   "id": "84344a34",
   "metadata": {},
   "outputs": [],
   "source": [
    "# TODO: instead of using a model with only one parameter, use `GridSearchCV` to\n",
    "# create a meta-model that will select the best hyperparameter using a nested\n",
    "# cross-validation loop.\n",
    "# TODO_BEGIN\n",
    "model = GridSearchCV(Ridge(), {\"alpha\": [0.1, 1.0, 10.0]}, verbose=1)\n",
    "# TODO_END\n",
    "scores = cross_validate(model, X, y)\n",
    "print(f\"\\nscores using GridSearchCV:\\n{scores}\")"
   ]
  },
  {
   "cell_type": "markdown",
   "id": "c1149192",
   "metadata": {},
   "source": [
    "scikit-learn also has a `RidgeCV` model that does this gridsearch much more\n",
    "efficiently."
   ]
  },
  {
   "cell_type": "code",
   "execution_count": null,
   "id": "c8b66f28",
   "metadata": {},
   "outputs": [],
   "source": [
    "ridgecv_model = RidgeCV(alphas=[0.001, 0.01, 0.1, 1.0, 10.0, 100.0, 1000.0])\n",
    "ridgecv_scores = cross_validate(ridgecv_model, X, y)\n",
    "print(f\"\\n\\nscores using RidgeCV:\\n{ridgecv_scores}\")"
   ]
  }
 ],
 "metadata": {
  "jupytext": {
   "cell_metadata_filter": "-all",
   "main_language": "python",
   "notebook_metadata_filter": "-all"
  }
 },
 "nbformat": 4,
 "nbformat_minor": 5
}
