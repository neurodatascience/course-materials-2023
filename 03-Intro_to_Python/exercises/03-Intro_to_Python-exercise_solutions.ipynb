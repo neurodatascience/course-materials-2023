{
 "cells": [
  {
   "cell_type": "markdown",
   "metadata": {},
   "source": [
    "# Tutorial Exercises - Intro to Python QLS-612"
   ]
  },
  {
   "cell_type": "markdown",
   "metadata": {},
   "source": [
    "## Part 1 - Reviewing Concepts for Exam\n",
    "### Don't use the interpreter to run code for these questions (1-8), make sure you can work through them by hand, understanding what's going on, and then run the code to check your solutions! This will prepare you well for the exam."
   ]
  },
  {
   "cell_type": "markdown",
   "metadata": {},
   "source": [
    "### 1. How many times is the variable i printed?"
   ]
  },
  {
   "cell_type": "code",
   "execution_count": 1,
   "metadata": {},
   "outputs": [
    {
     "name": "stdout",
     "output_type": "stream",
     "text": [
      "1\n",
      "7\n",
      "13\n"
     ]
    }
   ],
   "source": [
    "prime_list = [1, 3, 5, 7, 11, 13]\n",
    "for i in prime_list:\n",
    "    if (i + 2) % 3 == 0:\n",
    "        print(i)"
   ]
  },
  {
   "cell_type": "markdown",
   "metadata": {},
   "source": [
    "### 2. What does the following code print?"
   ]
  },
  {
   "cell_type": "code",
   "execution_count": 2,
   "metadata": {},
   "outputs": [
    {
     "name": "stdout",
     "output_type": "stream",
     "text": [
      "[4, 2, 7]\n"
     ]
    }
   ],
   "source": [
    "list1 = [1, 2, 3]\n",
    "list2 = [1, 0, 2]\n",
    "list3 = [3, 2, 1]\n",
    "list4 = []\n",
    "\n",
    "i = 0\n",
    "while i < len(list1):\n",
    "    term = list1[i] * list2[i] + list3[i]\n",
    "    list4.append(term)\n",
    "    i += 1\n",
    "print(list4)"
   ]
  },
  {
   "cell_type": "markdown",
   "metadata": {},
   "source": [
    "### 3. What does the following code print?"
   ]
  },
  {
   "cell_type": "code",
   "execution_count": 3,
   "metadata": {},
   "outputs": [
    {
     "name": "stdout",
     "output_type": "stream",
     "text": [
      "['Juan', 'Mary', 'Sneha', 'Adam']\n"
     ]
    }
   ],
   "source": [
    "people = {\n",
    "    1: {\"Name\": \"Juan\", \"Age\": \"24\", \"Level\": \"Advanced\"},\n",
    "    2: {\"Name\": \"Mary\", \"Age\": \"19\", \"Level\": \"Intermediate\"},\n",
    "    3: {\"Name\": \"Sneha\", \"Age\": \"21\", \"Level\": \"Advanced\"},\n",
    "    4: {\"Name\": \"Adam\", \"Age\": \"27\", \"Level\": \"Beginner\"},\n",
    "}\n",
    "\n",
    "my_array = []\n",
    "\n",
    "for key, value in people.items():\n",
    "    my_array.append(value[\"Name\"])\n",
    "print(my_array)"
   ]
  },
  {
   "cell_type": "markdown",
   "metadata": {},
   "source": [
    "### 4. What does the following code print?"
   ]
  },
  {
   "cell_type": "code",
   "execution_count": 4,
   "metadata": {},
   "outputs": [
    {
     "name": "stdout",
     "output_type": "stream",
     "text": [
      "abcd12341234abcd\n"
     ]
    }
   ],
   "source": [
    "my_string = \"abcd1234\"\n",
    "\n",
    "\n",
    "def fun1(str_input):\n",
    "    separator_index = int(len(str_input) / 2)\n",
    "    str1 = str_input[0:separator_index]\n",
    "    str2 = str_input[separator_index:]\n",
    "    return str2 + str1\n",
    "\n",
    "\n",
    "def fun2(str_input):\n",
    "    output = \"\"\n",
    "    modified = fun1(str_input)\n",
    "    return str_input + modified\n",
    "\n",
    "\n",
    "print(fun2(my_string))"
   ]
  },
  {
   "cell_type": "markdown",
   "metadata": {},
   "source": [
    "### 5. What does the following code print?"
   ]
  },
  {
   "cell_type": "code",
   "execution_count": 5,
   "metadata": {},
   "outputs": [
    {
     "name": "stdout",
     "output_type": "stream",
     "text": [
      "Goodjob\n"
     ]
    }
   ],
   "source": [
    "x = [\"Google\", \"apple\", \"djembe\", \"pear\", \"orange\", \"aardvark\", \"avocado\", \"bard\"]\n",
    "print(x[0][0:3] + x[2][0:1] + x[2][1] + x[6][-1] + x[2][-2])"
   ]
  },
  {
   "cell_type": "markdown",
   "metadata": {},
   "source": [
    "### 6. What does the following code print?"
   ]
  },
  {
   "cell_type": "code",
   "execution_count": 6,
   "metadata": {},
   "outputs": [
    {
     "name": "stdout",
     "output_type": "stream",
     "text": [
      "Fruit: apple\n",
      "Not a fruit: pear\n",
      "Fruit: orange\n",
      "Not a fruit: aardvark\n",
      "Fruit: avocado\n"
     ]
    }
   ],
   "source": [
    "x = [\"apple\", \"pear\", \"orange\", \"aardvark\", \"avocado\"]\n",
    "fruits = [\"apple\", \"banana\", \"melon\", \"orange\", \"avocado\"]\n",
    "\n",
    "for item in x:\n",
    "    if item in fruits:\n",
    "        print(\"Fruit: \" + item)\n",
    "    else:\n",
    "        print(\"Not a fruit: \" + item)"
   ]
  },
  {
   "cell_type": "markdown",
   "metadata": {},
   "source": [
    "### 7. What happens when you run the following code?"
   ]
  },
  {
   "cell_type": "code",
   "execution_count": 7,
   "metadata": {},
   "outputs": [
    {
     "name": "stdout",
     "output_type": "stream",
     "text": [
      "QLSC 612\n",
      "<class 'str'>\n",
      "<class 'str'>\n"
     ]
    }
   ],
   "source": [
    "x = \"QLSC\"\n",
    "y = \" \"\n",
    "z = \"123\"\n",
    "\n",
    "\n",
    "def neurodatascience(z, x):\n",
    "    if type(x) == str:\n",
    "        x = int(x)\n",
    "        x += 489\n",
    "    return str(z) + str(y) + str(x)\n",
    "\n",
    "\n",
    "print(neurodatascience(x, z))\n",
    "print(type(x))\n",
    "print(type(z))"
   ]
  },
  {
   "cell_type": "markdown",
   "metadata": {},
   "source": [
    "### 8. What does the following code print?"
   ]
  },
  {
   "cell_type": "code",
   "execution_count": 8,
   "metadata": {},
   "outputs": [
    {
     "name": "stdout",
     "output_type": "stream",
     "text": [
      "2\n"
     ]
    }
   ],
   "source": [
    "def my_function():\n",
    "    try:\n",
    "        return 1\n",
    "    except Exception:\n",
    "        print(\"An exception occurred\")\n",
    "    finally:\n",
    "        return 2\n",
    "\n",
    "\n",
    "print(my_function())"
   ]
  },
  {
   "cell_type": "markdown",
   "metadata": {},
   "source": [
    "## Part 2 - Writing some stuff in Python\n",
    "### These questions will require you to code a little. Give them a shot, and then after 10-15mins we can check in and go over a solution."
   ]
  },
  {
   "cell_type": "markdown",
   "metadata": {},
   "source": [
    "### 8. You are given a checkerboard which is represented as a 4x4 2-Dimensional list comprised of 1's and 0's. An example input is provided. Your mission (should you choose to accept it) is to create a function that can modify any such array by changing any element to the left of a 1 into a 1."
   ]
  },
  {
   "cell_type": "code",
   "execution_count": null,
   "metadata": {},
   "outputs": [],
   "source": [
    "# Solution\n",
    "\n",
    "checkerboard = [[0, 0, 0, 0], [0, 0, 1, 0], [1, 0, 0, 0], [0, 0, 0, 1]]\n",
    "\n",
    "checkerboard2 = [[1, 1, 1, 1], [0, 0, 0, 0], [0, 1, 0, 1], [1, 0, 1, 0]]\n",
    "\n",
    "\n",
    "def leftof1is1(checkerboard):\n",
    "    print(\"before: \" + str(checkerboard))\n",
    "    row = 0\n",
    "    column = 0\n",
    "\n",
    "    while row <= 3:\n",
    "        while column <= 3:\n",
    "            if checkerboard[row][column] == 1 and column - 1 >= 0:\n",
    "                checkerboard[row][column - 1] = 1\n",
    "            column += 1\n",
    "        column = 0\n",
    "        row += 1\n",
    "    print(\"after:  \" + str(checkerboard))  # pass by reference, no need to return it.\n",
    "\n",
    "\n",
    "print(leftof1is1(checkerboard))\n",
    "print(leftof1is1(checkerboard2))"
   ]
  },
  {
   "cell_type": "markdown",
   "metadata": {},
   "source": [
    "### 9. Write a function that takes an integer user input from the keyboard, and writes it to a text file. If the input is not numerical, then it informs the user, and attempts to obtain their input again.\n",
    "**Note that** the function input(\"Prompt to your question\") will read the users input from the keyboard as a string.\n",
    "\n",
    "**Read about writing to files in the python documentation:** https://docs.python.org/3/tutorial/inputoutput.html  \n",
    "Get used to reading documentation!"
   ]
  },
  {
   "cell_type": "code",
   "execution_count": null,
   "metadata": {},
   "outputs": [],
   "source": [
    "input(\"Prompt to your question\")"
   ]
  },
  {
   "cell_type": "code",
   "execution_count": null,
   "metadata": {},
   "outputs": [],
   "source": [
    "# Solution\n",
    "\n",
    "\n",
    "def numberGetWrite(filename):\n",
    "    while True:\n",
    "        try:\n",
    "            x = int(input(\"Please enter a number: \"))\n",
    "            break\n",
    "        except ValueError:\n",
    "            print(\"Oops!  That was no valid number.  Try again...\")\n",
    "\n",
    "    with open(filename, \"w\") as f:\n",
    "        f.write(\"the number is: \" + str(x))\n",
    "        f.close()\n",
    "    return\n",
    "\n",
    "\n",
    "numberGetWrite(\"./textfile.txt\")"
   ]
  },
  {
   "cell_type": "markdown",
   "metadata": {},
   "source": [
    "### 10. Given a dictionary with the same structure as the fruits_nutrition dictionary from the lecture, create a function that finds the average amount of calories of the fruits in the dictionary. It should still work if the dictionary has a different number of fruit entries than the current dictionary does. If the calories field of the fruits is empty, then skip this fruit and don't use it in your averaging."
   ]
  },
  {
   "cell_type": "code",
   "execution_count": null,
   "metadata": {},
   "outputs": [],
   "source": [
    "fruits_nutrition = {\n",
    "    \"apple\": {\"calories\": 54, \"water_percent\": 86, \"fibre_grams\": 2.4},\n",
    "    \"orange\": {\"calories\": 60, \"water_percent\": 86, \"fibre_grams\": 3.0},\n",
    "    \"banana\": {\"calories\": 89, \"water_percent\": 75, \"fibre_grams\": 2.6},\n",
    "}\n",
    "\n",
    "### Your code here"
   ]
  },
  {
   "cell_type": "code",
   "execution_count": null,
   "metadata": {},
   "outputs": [],
   "source": [
    "# Solution\n",
    "\n",
    "fruits_nutrition = {\n",
    "    \"apple\": {\"calories\": 54, \"water_percent\": 86, \"fibre_grams\": 2.4},\n",
    "    \"orange\": {\"calories\": 60, \"water_percent\": 86, \"fibre_grams\": 3.0},\n",
    "    \"banana\": {\"calories\": 89, \"water_percent\": 75, \"fibre_grams\": 2.6},\n",
    "}\n",
    "\n",
    "fruits_nutrition2 = {\n",
    "    \"apple\": {\"calories\": 54, \"water_percent\": 86, \"fibre_grams\": 2.4},\n",
    "    \"orange\": {\"calories\": 60, \"water_percent\": 86, \"fibre_grams\": 3.0},\n",
    "    \"banana\": {\"calories\": 89, \"water_percent\": 75, \"fibre_grams\": 2.6},\n",
    "    \"otherfruit\": {\"calories\": None, \"water_percent\": 66, \"fibre_grams\": 2.0},\n",
    "}\n",
    "\n",
    "fruits_nutrition3 = {\n",
    "    \"apple\": {\"calories\": 54, \"water_percent\": 86, \"fibre_grams\": 2.4},\n",
    "    \"orange\": {\"calories\": 60, \"water_percent\": 86, \"fibre_grams\": 3.0},\n",
    "    \"banana\": {\"calories\": 89, \"water_percent\": 75, \"fibre_grams\": 2.6},\n",
    "    \"otherfruit\": {\"calories\": None, \"water_percent\": 66, \"fibre_grams\": 2.0},\n",
    "    \"strawberry\": {\"calories\": 4, \"water_percent\": 91, \"fibre_grams\": 0.2},\n",
    "}\n",
    "\n",
    "\n",
    "def caloricAverage(fruit_dictionary):\n",
    "    numerator_sum = 0\n",
    "    denominator = len(fruit_dictionary)\n",
    "    for key, value in fruit_dictionary.items():\n",
    "        if value.get(\"calories\") != None:\n",
    "            numerator_sum += value[\"calories\"]\n",
    "        else:\n",
    "            denominator -= 1\n",
    "    return numerator_sum / denominator\n",
    "\n",
    "\n",
    "print(caloricAverage(fruits_nutrition))\n",
    "print(caloricAverage(fruits_nutrition2))\n",
    "print(caloricAverage(fruits_nutrition3))"
   ]
  },
  {
   "cell_type": "markdown",
   "metadata": {},
   "source": [
    "## BONUS: A Pythonic Challenge\n",
    "For those who want more practise or find this easy, **write a piece of code that prints the first 100 primes**"
   ]
  },
  {
   "cell_type": "code",
   "execution_count": null,
   "metadata": {},
   "outputs": [],
   "source": [
    "primes = []\n",
    "i = 1\n",
    "while i >= 1:  # where N=i+1\n",
    "    prime_check = 0\n",
    "    for val in range(2, i + 1):\n",
    "        if (i + 1) % val == 0:\n",
    "            prime_check += 1\n",
    "    if prime_check == 0:\n",
    "        primes.append(i + 1)\n",
    "    i += 1\n",
    "    if len(primes) >= 100:\n",
    "        break\n",
    "print(f\"First 100 prime numbers: {primes}\")"
   ]
  },
  {
   "cell_type": "markdown",
   "metadata": {},
   "source": [
    "1. Replace 100 with a variable called N (makes your script more customizable)."
   ]
  },
  {
   "cell_type": "code",
   "execution_count": null,
   "metadata": {},
   "outputs": [],
   "source": [
    "N = 100\n",
    "primes = []\n",
    "i = 1\n",
    "while i >= 1:  # where N=i+1\n",
    "    prime_check = 0\n",
    "    for val in range(2, i + 1):\n",
    "        if (i + 1) % val == 0:\n",
    "            prime_check += 1\n",
    "    if prime_check == 0:\n",
    "        primes.append(i + 1)\n",
    "    i += 1\n",
    "    if len(primes) >= N:\n",
    "        break\n",
    "print(f\"First {N} prime numbers: {primes}\")"
   ]
  },
  {
   "cell_type": "markdown",
   "metadata": {},
   "source": [
    "2. Add code that prints how long it takes to execute (hint: you may want to import time)."
   ]
  },
  {
   "cell_type": "code",
   "execution_count": null,
   "metadata": {},
   "outputs": [],
   "source": [
    "import time\n",
    "\n",
    "start_time = time.time()\n",
    "N = 100\n",
    "primes = []\n",
    "i = 1\n",
    "while i >= 1:  # where N=i+1\n",
    "    prime_check = 0\n",
    "    for val in range(2, i + 1):\n",
    "        if (i + 1) % val == 0:\n",
    "            prime_check += 1\n",
    "    if prime_check == 0:\n",
    "        primes.append(i + 1)\n",
    "    i += 1\n",
    "    if len(primes) >= N:\n",
    "        break\n",
    "print(f\"First {N} prime numbers: {primes}\")\n",
    "print(f\"Run time: {(time.time() - start_time)} seconds\")"
   ]
  },
  {
   "cell_type": "markdown",
   "metadata": {},
   "source": [
    "3. Add a break somewhere to speed up your code (you should notice a smaller run time)."
   ]
  },
  {
   "cell_type": "code",
   "execution_count": null,
   "metadata": {},
   "outputs": [],
   "source": [
    "import time\n",
    "\n",
    "start_time = time.time()\n",
    "N = 100\n",
    "primes = []\n",
    "i = 1\n",
    "while i >= 1:  # where N=i+1\n",
    "    prime_check = 0\n",
    "    for val in range(2, i + 1):\n",
    "        if (i + 1) % val == 0:\n",
    "            prime_check += 1\n",
    "            break\n",
    "    if prime_check == 0:\n",
    "        primes.append(i + 1)\n",
    "    i += 1\n",
    "    if len(primes) >= N:\n",
    "        break\n",
    "print(f\"First {N} prime numbers: {primes}\")\n",
    "print(f\"Run time: {(time.time() - start_time)} seconds\")"
   ]
  },
  {
   "cell_type": "markdown",
   "metadata": {},
   "source": [
    "4. Modify the range that you iterate through to speed up your code (you should notice a smaller run time). Hints: import math , math.sqrt() and be weary of type-casting errors."
   ]
  },
  {
   "cell_type": "code",
   "execution_count": null,
   "metadata": {},
   "outputs": [],
   "source": [
    "import time\n",
    "import math\n",
    "\n",
    "start_time = time.time()\n",
    "N = 100\n",
    "primes = []\n",
    "i = 1\n",
    "while i >= 1:  # where N=i+1\n",
    "    prime_check = 0\n",
    "    for val in range(2, int(math.sqrt(i + 1))):\n",
    "        if (i + 1) % val == 0:\n",
    "            prime_check += 1\n",
    "            break\n",
    "    if prime_check == 0:\n",
    "        primes.append(i + 1)\n",
    "    i += 1\n",
    "    if len(primes) >= N:\n",
    "        break\n",
    "print(f\"First {N} prime numbers: {primes}\")\n",
    "print(f\"Run time: {(time.time() - start_time)} seconds\")"
   ]
  },
  {
   "cell_type": "markdown",
   "metadata": {},
   "source": [
    "5. Add a prompt that ask a person to input how many ordered primes they want to print."
   ]
  },
  {
   "cell_type": "code",
   "execution_count": null,
   "metadata": {},
   "outputs": [],
   "source": [
    "import time\n",
    "import math\n",
    "\n",
    "start_time = time.time()\n",
    "N = int(input(\"How many ordered primes do you want to print?\"))\n",
    "primes = []\n",
    "i = 1\n",
    "while i >= 1:  # where N=i+1\n",
    "    prime_check = 0\n",
    "    for val in range(2, int(math.sqrt(i + 1))):\n",
    "        if (i + 1) % val == 0:\n",
    "            prime_check += 1\n",
    "            break\n",
    "    if prime_check == 0:\n",
    "        primes.append(i + 1)\n",
    "    i += 1\n",
    "    if len(primes) >= N:\n",
    "        break\n",
    "print(f\"First {N} prime numbers: {primes}\")\n",
    "print(f\"Run time: {(time.time() - start_time)} seconds\")"
   ]
  }
 ],
 "metadata": {
  "kernelspec": {
   "display_name": "Python 3 (ipykernel)",
   "language": "python",
   "name": "python3"
  },
  "language_info": {
   "codemirror_mode": {
    "name": "ipython",
    "version": 3
   },
   "file_extension": ".py",
   "mimetype": "text/x-python",
   "name": "python",
   "nbconvert_exporter": "python",
   "pygments_lexer": "ipython3",
   "version": "3.9.16"
  }
 },
 "nbformat": 4,
 "nbformat_minor": 4
}
