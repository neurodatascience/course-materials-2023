{
 "cells": [
  {
   "cell_type": "markdown",
   "metadata": {
    "id": "Js_w_9zr25zB"
   },
   "source": [
    "# Tutorial Exercises - Intro to Python QLS-612"
   ]
  },
  {
   "cell_type": "markdown",
   "metadata": {
    "id": "acuSqe6D25zH"
   },
   "source": [
    "## Part 1 - Reviewing Concepts for Exam\n",
    "### Don't use the interpreter to run code for these questions (1-8), make sure you can work through them by hand, understanding what's going on, and then run the code to check your solutions! This will prepare you well for the exam."
   ]
  },
  {
   "cell_type": "markdown",
   "metadata": {
    "id": "Kzdk33kQ25zI"
   },
   "source": [
    "### 1. How many times is the variable i printed?"
   ]
  },
  {
   "cell_type": "code",
   "execution_count": null,
   "metadata": {
    "id": "MCARNFuX25zI"
   },
   "outputs": [],
   "source": [
    "# prime_list = [1, 3, 5, 7, 11, 13]\n",
    "# for i in prime_list:\n",
    "#     if (i+2)%3 == 0:\n",
    "#         print(i)"
   ]
  },
  {
   "cell_type": "markdown",
   "metadata": {
    "id": "h3ayDLt425zL"
   },
   "source": [
    "### 2. What does the following code print?"
   ]
  },
  {
   "cell_type": "code",
   "execution_count": null,
   "metadata": {
    "id": "k53Jovok25zM"
   },
   "outputs": [],
   "source": [
    "# list1 = [1,2,3]\n",
    "# list2 = [1,0,2]\n",
    "# list3 = [3,2,1]\n",
    "# list4 = []\n",
    "\n",
    "# i = 0\n",
    "# while i < len(list1):\n",
    "#     term = list1[i]*list2[i] + list3[i]\n",
    "#     list4.append(term)\n",
    "#     i += 1\n",
    "# print(list4)"
   ]
  },
  {
   "cell_type": "markdown",
   "metadata": {
    "id": "1tlxzYG425zN"
   },
   "source": [
    "### 3. What does the following code print?"
   ]
  },
  {
   "cell_type": "code",
   "execution_count": null,
   "metadata": {
    "id": "I1Kz6jHl25zN"
   },
   "outputs": [],
   "source": [
    "# people = {1: {'Name': 'Juan', 'Age': '24', 'Level': 'Advanced'},\n",
    "#           2: {'Name': 'Mary', 'Age': '19', 'Level': 'Intermediate'},\n",
    "#           3: {'Name': 'Sneha', 'Age': '21', 'Level': 'Advanced'},\n",
    "#           4: {'Name': 'Adam', 'Age': '27', 'Level': 'Beginner'}}\n",
    "\n",
    "# my_array = []\n",
    "\n",
    "# for key, value in people.items():\n",
    "#     my_array.append(value[\"Name\"])\n",
    "# print(my_array)"
   ]
  },
  {
   "cell_type": "markdown",
   "metadata": {
    "id": "GEoZgxTi25zO"
   },
   "source": [
    "### 4. What does the following code print?"
   ]
  },
  {
   "cell_type": "code",
   "execution_count": null,
   "metadata": {
    "id": "DknHgdfN25zP"
   },
   "outputs": [],
   "source": [
    "# my_string = \"abcd1234\"\n",
    "\n",
    "# def fun1(str_input):\n",
    "#     separator_index = int(len(str_input)/2)\n",
    "#     str1 = str_input[0 : separator_index]\n",
    "#     str2 = str_input[separator_index: ]\n",
    "#     return str2+str1\n",
    "\n",
    "# def fun2(str_input):\n",
    "#     output = \"\"\n",
    "#     modified = fun1(str_input)\n",
    "#     return str_input + modified\n",
    "\n",
    "# print(fun2(my_string))"
   ]
  },
  {
   "cell_type": "markdown",
   "metadata": {
    "id": "4mewFaYo25zQ"
   },
   "source": [
    "### 5. What does the following code print?"
   ]
  },
  {
   "cell_type": "code",
   "execution_count": null,
   "metadata": {
    "id": "Dnc6vYpW25zQ"
   },
   "outputs": [],
   "source": [
    "# x = [\"Google\", \"apple\", \"djembe\", \"pear\", \"orange\", \"aardvark\", \"avocado\", \"bard\"]\n",
    "# print (x[0][0:3] + x[2][0:1] + x[2][1] + x[6][-1] + x[2][-2])"
   ]
  },
  {
   "cell_type": "markdown",
   "metadata": {
    "id": "o_ZTq8iz25zR"
   },
   "source": [
    "### 6. What does the following code print?"
   ]
  },
  {
   "cell_type": "code",
   "execution_count": null,
   "metadata": {
    "id": "VAakutzZ25zS"
   },
   "outputs": [],
   "source": [
    "# x = [\"apple\", \"pear\", \"orange\", \"aardvark\", \"avocado\"]\n",
    "# fruits = [\"apple\", \"banana\", \"melon\", \"orange\", \"avocado\"]\n",
    "\n",
    "# for item in x:\n",
    "#     if item in fruits:\n",
    "#         print(\"Fruit: \" + item)\n",
    "#     else:\n",
    "#         print(\"Not a fruit: \" + item)"
   ]
  },
  {
   "cell_type": "markdown",
   "metadata": {},
   "source": [
    "### 7. What happens when you run the following code?"
   ]
  },
  {
   "cell_type": "code",
   "execution_count": null,
   "metadata": {},
   "outputs": [],
   "source": [
    "x = \"QLSC\"\n",
    "y = \" \"\n",
    "z = \"123\"\n",
    "\n",
    "\n",
    "def neurodatascience(z, x):\n",
    "    if type(x) == str:\n",
    "        x = int(x)\n",
    "        x += 489\n",
    "    return str(z) + str(y) + str(x)\n",
    "\n",
    "\n",
    "print(neurodatascience(x, z))\n",
    "print(type(x))\n",
    "print(type(z))"
   ]
  },
  {
   "cell_type": "markdown",
   "metadata": {
    "id": "Y1NbxvP125zS"
   },
   "source": [
    "### 8. What does the following code print?"
   ]
  },
  {
   "cell_type": "code",
   "execution_count": null,
   "metadata": {
    "id": "cnJ4pfI325zT"
   },
   "outputs": [],
   "source": [
    "# def my_function():\n",
    "#     try:\n",
    "#         return 1\n",
    "#     except Exception:\n",
    "#           print(\"An exception occurred\")\n",
    "#     finally:\n",
    "#         return 2\n",
    "\n",
    "# print(my_function())"
   ]
  },
  {
   "cell_type": "markdown",
   "metadata": {
    "id": "YqH2P9ZN25zT"
   },
   "source": [
    "## Part 2 - Writing some stuff in Python\n",
    "### These questions will require you to code a little. Give them a shot, and then after 10-15mins we can check in and go over a solution."
   ]
  },
  {
   "cell_type": "markdown",
   "metadata": {
    "id": "LZTSsJDu25zU"
   },
   "source": [
    "### 8. You are given a checkerboard which is represented as a 4x4 2-Dimensional list comprised of 1's and 0's. An example input is provided. Your mission (should you choose to accept it) is to create a function that can modify any such array by changing any element to the left of a 1 into a 1."
   ]
  },
  {
   "cell_type": "code",
   "execution_count": null,
   "metadata": {
    "id": "KWslPg7825zU"
   },
   "outputs": [],
   "source": [
    "checkerboard = [[0, 0, 0, 0], [0, 0, 1, 0], [1, 0, 0, 0], [0, 0, 0, 1]]\n",
    "\n",
    "### Your code here"
   ]
  },
  {
   "cell_type": "markdown",
   "metadata": {
    "id": "Uy9hU5HR25zW"
   },
   "source": [
    "### 9. Write a function that takes an integer user input from the keyboard, and writes it to a text file. If the input is not numerical, then it informs the user, and attempts to obtain their input again.\n",
    "**Note that** the function `input(\"Prompt to your question\")` will read the users input from the keyboard as a string.\n",
    "\n",
    "**Read about writing to files in the Python documentation:** https://docs.python.org/3/tutorial/inputoutput.html  \n",
    "Get used to reading documentation!"
   ]
  },
  {
   "cell_type": "code",
   "execution_count": null,
   "metadata": {
    "id": "TbFT13Nl25zW"
   },
   "outputs": [],
   "source": [
    "### Your code here"
   ]
  },
  {
   "cell_type": "markdown",
   "metadata": {
    "id": "TA0MKCn725zX"
   },
   "source": [
    "### 10. Given a dictionary with the same structure as the fruits_nutrition dictionary from the lecture, create a function that finds the average amount of calories of the fruits in the dictionary. It should still work if the dictionary has a different number of fruit entries than the current dictionary does. If the calories field of the fruits is empty, then skip this fruit and don't use it in your averaging."
   ]
  },
  {
   "cell_type": "code",
   "execution_count": null,
   "metadata": {
    "id": "xbNBx93M25zX"
   },
   "outputs": [],
   "source": [
    "fruits_nutrition = {\n",
    "    \"apple\": {\"calories\": 54, \"water_percent\": 86, \"fibre_grams\": 2.4},\n",
    "    \"orange\": {\"calories\": 60, \"water_percent\": 86, \"fibre_grams\": 3.0},\n",
    "    \"banana\": {\"calories\": 89, \"water_percent\": 75, \"fibre_grams\": 2.6},\n",
    "}\n",
    "\n",
    "### Your code here"
   ]
  },
  {
   "cell_type": "markdown",
   "metadata": {},
   "source": [
    "## BONUS: A Pythonic Challenge\n",
    "For those who want more practise or find this easy, **write a piece of code that prints the first 100 primes** and improve it according to the instructions below:\n",
    "1. Replace 100 with a variable called N (makes your script more customizable).\n",
    "2. Add code that prints how long it takes to execute (hint: you may want to `import time`).\n",
    "3. Add a `break` statement somewhere to speed up your code (you should notice a smaller run time).\n",
    "4. Modify the range that you iterate through to speed up your code (you should notice a smaller run time). Hints: `import math`, `math.sqrt()` and be wary of type-casting errors.\n",
    "5. Add a prompt that ask a person to input how many ordered primes they want to print."
   ]
  },
  {
   "cell_type": "code",
   "execution_count": null,
   "metadata": {},
   "outputs": [],
   "source": []
  }
 ],
 "metadata": {
  "colab": {
   "collapsed_sections": [],
   "name": "Intro to Python - Tutorial Problems.ipynb",
   "provenance": []
  },
  "kernelspec": {
   "display_name": "Python 3 (ipykernel)",
   "language": "python",
   "name": "python3"
  },
  "language_info": {
   "codemirror_mode": {
    "name": "ipython",
    "version": 3
   },
   "file_extension": ".py",
   "mimetype": "text/x-python",
   "name": "python",
   "nbconvert_exporter": "python",
   "pygments_lexer": "ipython3",
   "version": "3.9.16"
  }
 },
 "nbformat": 4,
 "nbformat_minor": 4
}
