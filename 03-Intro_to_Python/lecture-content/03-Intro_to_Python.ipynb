{
    "cells": [
        {
            "cell_type": "markdown",
            "metadata": {
                "slideshow": {
                    "slide_type": "slide"
                }
            },
            "source": [
                "# QLSC 612: Introduction to Python\n",
                "\n",
                "Michelle Wang\n",
                "\n",
                "May 2 2023\n",
                "\n",
                "*Modified from the 2022 version of the module, which was taught by Jacob Sanz-Robinson ([link to the video recording](https://youtu.be/ml6VkmtLXpA)).*\n",
                "\n",
                "<!-- \n",
                "Command to generate HTML slides and serve on HTTP server: \n",
                "    jupyter-nbconvert --to slides 03-Intro_to_Python.ipynb --post serve  \n",
                "-->"
            ]
        },
        {
            "cell_type": "markdown",
            "metadata": {
                "slideshow": {
                    "slide_type": "skip"
                }
            },
            "source": [
                "## Note\n",
                "\n",
                "If you cloned the course materials repository from GitHub and wish to run/modify this notebook while following the lecture presentation, make a copy of this file (`03-Intro_to_Python.ipynb`) and edit that copy instead of this one. Otherwise, you might get merge conflicts when running `git pull` to get the latest version of the course materials."
            ]
        },
        {
            "cell_type": "markdown",
            "metadata": {
                "slideshow": {
                    "slide_type": "slide"
                }
            },
            "source": [
                "## What is Python?\n",
                "\n",
                "<img src=\"images/python-logo-master-v3-TM.png\" width=\"250\"/>\n",
                "\n",
                "* A programming language\n",
                "* Simple, easy to learn syntax that emphasizes readability. Efficient and intuitive to write in\n",
                "* Created 30+ years ago, large community. Huge growth since 2012\n",
                "* Lots of libraries permitting you to use others' code\n",
                "\n",
                "<p float=\"left\">\n",
                "  <img src=\"images/numpylogo.png\" width=\"200\" align=\"left\" style=\"vertical-align: middle\"/> \n",
                "  <img src=\"images/scipy_logo.svg\" width=\"50\" align=\"left\" style=\"vertical-align: middle\"/> \n",
                "  <img src=\"images/pandas.svg\" width=\"150\" align=\"left\" style=\"vertical-align: middle\"/> \n",
                "  <img src=\"images/1280px-scikit-learn-logo.png\" width=\"100\" align=\"left\" style=\"vertical-align: middle\"/>\n",
                "  <img src=\"images/matplotlib_logo.png\" width=\"250\" align=\"left\" style=\"vertical-align: middle\"/>\n",
                "</p>\n"
            ]
        },
        {
            "cell_type": "markdown",
            "metadata": {
                "slideshow": {
                    "slide_type": "subslide"
                }
            },
            "source": [
                "## Python is a *high-level* programming language\n",
                "* Strong abstraction from the details of the computer or the machine language.\n",
                "* Don't have to deal with 1/0's or allocating memory and registers.\n",
                "* Lots of nice built-in data structures."
            ]
        },
        {
            "cell_type": "markdown",
            "metadata": {
                "slideshow": {
                    "slide_type": "subslide"
                }
            },
            "source": [
                "## Python is an *interpreted* language\n",
                "\n",
                "* If you code in C/C++, you have to compile it, translating your human understandable code to (OS-specific) machine understandable code which the CPU can execute.\n",
                "* Python code is translated into **bytecode** (low-level set of instructions that can be executed by an interpreter).\n",
                "* The bytecode is executed on a **virtual machine** (VM) and not CPU.\n",
                "* Interpreter checks the validity of variable types and operations (as opposed to having to declare them and having them checked on compilation).\n",
                "* Advantage: given the bytecode and the VM are the same version, the bytecode can be executed on any platform\n",
                "    * Cost/inconvenience is that it typically takes a bit more time to run.\n",
                "* See [this Medium article](https://towardsdatascience.com/understanding-python-bytecode-e7edaae8734d) for more information"
            ]
        },
        {
            "cell_type": "markdown",
            "metadata": {
                "slideshow": {
                    "slide_type": "subslide"
                }
            },
            "source": [
                "## Python is *object-oriented*\n",
                "* Organized around **objects**. Everything in python (lists, dictionaries, classes, etc.) is an object (chunk of memory containing a value).\n",
                "* We won't delve into the object oriented philosophy today."
            ]
        },
        {
            "cell_type": "markdown",
            "metadata": {
                "slideshow": {
                    "slide_type": "fragment"
                }
            },
            "source": [
                "## Python has *dynamic semantics*\n",
                "* Variables are **dynamic objects**: think of them as labels on actual objects\n",
                "* Can set a variable to an integer, then to a string, etc.\n",
                "* Assign variables in a way that makes more sense to a human than it does to the computer."
            ]
        },
        {
            "cell_type": "markdown",
            "metadata": {
                "slideshow": {
                    "slide_type": "skip"
                }
            },
            "source": [
                "## Python version\n",
                "For this tutorial to run properly, you are expected to have Python version >=3.7 installed. If you followed the installation instructions successfully, you should have Python 3.9."
            ]
        },
        {
            "cell_type": "markdown",
            "metadata": {
                "slideshow": {
                    "slide_type": "slide"
                },
                "tags": []
            },
            "source": [
                "## Demo: running a Python script\n",
                "\n",
                "* A Python file is a text file. By convention it should have the `.py` extension\n",
                "* In a command line: Open the terminal window and type in the word `python` (or `python3` if you have both versions of Python installed), followed by the path to your script. For example, if your script is called `hello.py`, you would type `python3 hello.py`.\n",
                "* Alternatively, you could add the shebang line `#!/usr/bin/env python` to the top of the file, make it executable (e.g., `chmod u+x hello.py` in a terminal), and run it as you would run a shell script (e.g., `./hello.py`)"
            ]
        },
        {
            "cell_type": "code",
            "execution_count": null,
            "metadata": {
                "slideshow": {
                    "slide_type": "-"
                }
            },
            "outputs": [],
            "source": [
                "# this code calls the print function\n",
                "# which prints the specified message to the screen.\n",
                "print(\"Hello world!\")"
            ]
        },
        {
            "cell_type": "markdown",
            "metadata": {
                "slideshow": {
                    "slide_type": "slide"
                },
                "tags": []
            },
            "source": [
                "## Aside: Python virtual environments\n",
                "\n",
                "* What if you have multiple projects that use different versions of Python or Python libraries?\n",
                "* It can become very difficult to manage/debug your Python environment\n",
                "\n",
                "    <img src=\"images/python_environment.png\" width=300/>\n",
                "\n",
                "*https://xkcd.com/1987/*"
            ]
        },
        {
            "cell_type": "markdown",
            "metadata": {
                "slideshow": {
                    "slide_type": "subslide"
                }
            },
            "source": [
                "## Aside: Python virtual environments\n",
                "\n",
                "* Solution: create a different environment for each project\n",
                "    * Each environment has its own dependencies\n",
                "    * Updating one environment does not after the other ones\n",
                "* `conda` is a Python package manager that comes with Miniconda/Anaconda\n",
                "    * Create a new environment named `qlsc612` that uses Python 3.9: \n",
                "        \n",
                "        `conda create --name qlsc612 python=3.9`\n",
                "    * Activate the environment: `conda activate qls612`\n",
                "    * Install packages: `conda install [PACKAGE_NAMES]`\n",
                "    * [`conda` cheat sheet](https://docs.conda.io/projects/conda/en/4.6.0/_downloads/52a95608c49671267e40c689e0bc00ca/conda-cheatsheet.pdf)\n",
                "* See also: [`venv`](https://docs.python.org/3/library/venv.html) as an alternative to `conda`"
            ]
        },
        {
            "cell_type": "markdown",
            "metadata": {
                "slideshow": {
                    "slide_type": "slide"
                }
            },
            "source": [
                "## Demo: using Jupyter Notebooks\n",
                "\n",
                "* To open the notebook in VSCode, type the following in a **terminal**:\n",
                "    ```bash\n",
                "    # activate the qlsc612 environment\n",
                "    conda activate qlsc612\n",
                "    # open the notebook in VS Code\n",
                "    code <NOTEBOOK_NAME.ipynb>\n",
                "    ```\n",
                "    The notebook should now appear in a new VS Code tab or window.\n",
                "    \n",
                "    *If your shell complains that the `code` command cannot be found, you can install it by going to the VS Code Command Palette (`Ctrl`/`Cmd`+`Shift`+`P`) and typing/selecting `Shell Command: Install 'code' command in PATH`.*\n",
                "\n",
                "* Click on a cell to select it, and press `Ctrl` + `Enter` to execute the code.\n",
                "\n",
                "<!-- Command palette: Shell Command: Install 'code' command in PATH -->\n"
            ]
        },
        {
            "cell_type": "markdown",
            "metadata": {
                "slideshow": {
                    "slide_type": "subslide"
                }
            },
            "source": [
                "## Demo: using Jupyter Notebooks\n",
                "\n",
                "<!-- (through remote access to your WSL2 Ubuntu, for Windows) -->\n",
                "When running a Jupyter notebook in VS Code, you may also need to specify the Python environment (kernel). There will be a `Select Kernel` button in the top right corner of the Jupyter notebook, click it and select the one reading something like *qlsc612 (Python 3.9.x) miniconda3/envs/qlsc612/bin/python*. The button should be updated to read *qlsc612 (Python 3.9.x)*. This is the Python environment we have just created for this course: make sure it is the one you are using for later modules.\n",
                "\n",
                "![vscode_jupyter_kernel](images/vscode_jupyter_kernel.png)"
            ]
        },
        {
            "cell_type": "markdown",
            "metadata": {
                "slideshow": {
                    "slide_type": "subslide"
                }
            },
            "source": [
                "## Aside: Jupyter Notebooks\n",
                "\n",
                "Jupyter notebooks are interactive documents that can combine text elements and code. They can be handy for exploring a dataset or presenting a report, but they are not necessarily the best choice for running a full-fledged analysis. Running a notebook also requires some external dependencies (e.g., `jupyter`, or `ipykernel` if using VS Code with the Jupyter Notebook extension).\n",
                "\n",
                "Notebooks are also more complicated than simple Python scripts and modules: refer to the [documentation](https://jupyter-notebook-beginner-guide.readthedocs.io/en/latest/what_is_jupyter.html) if you are curious about how they work.\n"
            ]
        },
        {
            "cell_type": "code",
            "execution_count": null,
            "metadata": {},
            "outputs": [],
            "source": [
                "# the insides of a .ipynb file\n",
                "! head \"03-Intro_to_Python.ipynb\" # use '!' for a shell command (head: print 10 first lines of file)"
            ]
        },
        {
            "cell_type": "markdown",
            "metadata": {
                "slideshow": {
                    "slide_type": "slide"
                }
            },
            "source": [
                "## Comments in Python\n",
                "\n",
                "* A comment follows the `#` symbol. Anything following this symbol is not executed.\n",
                "* Comments help make your code more human-readable. Add comments to clarify what your code is doing.\n",
                "* It will help other people who see your code, and could even help you when you are re-reading your own code in the future."
            ]
        },
        {
            "cell_type": "code",
            "execution_count": null,
            "metadata": {},
            "outputs": [],
            "source": [
                "# This is a comment."
            ]
        },
        {
            "cell_type": "markdown",
            "metadata": {
                "slideshow": {
                    "slide_type": "slide"
                }
            },
            "source": [
                "## Simple data types\n",
                "\n",
                "* Variables can store data of different types, and these different types can do different things.\n",
                "* We can use different operators on different data types.\n",
                "* Python has many built-in data types, in this section we will see some of the widely used, fundamental ones."
            ]
        },
        {
            "cell_type": "markdown",
            "metadata": {
                "slideshow": {
                    "slide_type": "subslide"
                }
            },
            "source": [
                "### Simple data types: `int` (integer)\n",
                "\n",
                "Positive or negative whole number (no decimal point)."
            ]
        },
        {
            "cell_type": "code",
            "execution_count": null,
            "metadata": {},
            "outputs": [],
            "source": [
                "print(5)\n",
                "print(-5)  # can be negative"
            ]
        },
        {
            "cell_type": "markdown",
            "metadata": {
                "slideshow": {
                    "slide_type": "subslide"
                }
            },
            "source": [
                "### Simple data types: `float`\n",
                "\n",
                "Real numbers. A decimal point divides them into the integer and fractional parts."
            ]
        },
        {
            "cell_type": "code",
            "execution_count": null,
            "metadata": {},
            "outputs": [],
            "source": [
                "print(5.0)\n",
                "print(5.0)  # trailing 0 is not necessary\n",
                "print(-5.0)  # can also be negative"
            ]
        },
        {
            "cell_type": "markdown",
            "metadata": {
                "slideshow": {
                    "slide_type": "subslide"
                }
            },
            "source": [
                "### Simple data types: `string`\n",
                "\n",
                "Sequence of characters."
            ]
        },
        {
            "cell_type": "code",
            "execution_count": null,
            "metadata": {},
            "outputs": [],
            "source": [
                "print(\"hello\")\n",
                "print(\"12345\")  # can use single or double quotes"
            ]
        },
        {
            "cell_type": "markdown",
            "metadata": {
                "slideshow": {
                    "slide_type": "subslide"
                }
            },
            "source": [
                "### Simple data types: `bool` (boolean)\n",
                "\n",
                "Represent one of two values: True or False."
            ]
        },
        {
            "cell_type": "code",
            "execution_count": null,
            "metadata": {},
            "outputs": [],
            "source": [
                "print(True)\n",
                "print(False)"
            ]
        },
        {
            "cell_type": "markdown",
            "metadata": {
                "slideshow": {
                    "slide_type": "subslide"
                }
            },
            "source": [
                "### Checking the data type of a variable\n",
                "\n",
                "You can use the `type()` function to obtain the data type of a variable."
            ]
        },
        {
            "cell_type": "code",
            "execution_count": null,
            "metadata": {},
            "outputs": [],
            "source": [
                "print(type(5))\n",
                "print(type(5.0))"
            ]
        },
        {
            "cell_type": "markdown",
            "metadata": {
                "slideshow": {
                    "slide_type": "slide"
                }
            },
            "source": [
                "## Variables\n",
                "**Variables** are containers for storing data values.  \n",
                "Think of them as names attached to a particular object."
            ]
        },
        {
            "cell_type": "code",
            "execution_count": null,
            "metadata": {},
            "outputs": [],
            "source": [
                "age = 12  # use '=' to assign a value to a variable\n",
                "print(age)\n",
                "\n",
                "age = 24  # update the age variable\n",
                "print(age)\n",
                "\n",
                "age = age + 2\n",
                "print(age)\n",
                "\n",
                "age += 1  # add 1 to the value of 'age' and assign it back to 'age'\n",
                "print(age)"
            ]
        },
        {
            "cell_type": "markdown",
            "metadata": {
                "slideshow": {
                    "slide_type": "slide"
                }
            },
            "source": [
                "## Operators\n",
                "\n",
                "Operators can be applied to variables.\n",
                "* Assignment operator: `=`\n",
                "* Arithmetic operators: `+`, `-`, `*`, `/`, `//` (integer division), `**` (power), `%` (modulo/remainder)\n",
                "* Logical operators: `not`, `and`, `or`\n",
                "* Comparison operators: `==` (equal), `!=` (not equal), `>`, `>=`, `<`, `<=`\n",
                "* Other: `is`, `in`, [etc.](https://www.w3schools.com/python/python_operators.asp)"
            ]
        },
        {
            "cell_type": "markdown",
            "metadata": {
                "slideshow": {
                    "slide_type": "skip"
                }
            },
            "source": [
                "### Arithmetic operators\n",
                "\n",
                "Python's arithmetic operators are: `+`, `-`, `*`, `/`, `//` (integer division), `**` (power), `%` (modulo/remainder)"
            ]
        },
        {
            "cell_type": "code",
            "execution_count": null,
            "metadata": {
                "slideshow": {
                    "slide_type": "skip"
                }
            },
            "outputs": [],
            "source": [
                "# arithmetic operators\n",
                "\n",
                "a = 12\n",
                "b = 2\n",
                "c = 4\n",
                "\n",
                "print(a + b)\n",
                "print(a - b)\n",
                "print(a * b)\n",
                "print(a / b)\n",
                "print(a**b)\n",
                "print(a % b)"
            ]
        },
        {
            "cell_type": "markdown",
            "metadata": {
                "slideshow": {
                    "slide_type": "skip"
                }
            },
            "source": [
                "### Logical operators\n",
                "\n",
                "Logical operators (`and`, `or`, `not`) evaluate to `True` or `False`. They can be used in conditional statements."
            ]
        },
        {
            "cell_type": "code",
            "execution_count": null,
            "metadata": {
                "slideshow": {
                    "slide_type": "skip"
                }
            },
            "outputs": [],
            "source": [
                "# logical operators\n",
                "\n",
                "x = True\n",
                "y = False\n",
                "z = False\n",
                "\n",
                "print(x and y)\n",
                "print(x or y)\n",
                "print(not x)\n",
                "print(x or y or z)"
            ]
        },
        {
            "cell_type": "markdown",
            "metadata": {
                "slideshow": {
                    "slide_type": "skip"
                }
            },
            "source": [
                "### Comparison operators\n",
                "\n",
                "Use `==`, `!=`, `>`, `>=`, `<`, `<=` to compare objects"
            ]
        },
        {
            "cell_type": "code",
            "execution_count": null,
            "metadata": {
                "slideshow": {
                    "slide_type": "skip"
                }
            },
            "outputs": [],
            "source": [
                "x = 1\n",
                "y = 1\n",
                "z = 547\n",
                "a = \"hello\"\n",
                "\n",
                "print(x == y)  # Equal to\n",
                "print(x == a)\n",
                "print(x != z)  # Not equal to\n",
                "print(x > y)  # Greater than\n",
                "print(x >= y)  # Greater than or equal to"
            ]
        },
        {
            "cell_type": "markdown",
            "metadata": {
                "slideshow": {
                    "slide_type": "subslide"
                }
            },
            "source": [
                "### Assignment vs equality operator\n",
                "\n",
                "They are not the same!"
            ]
        },
        {
            "cell_type": "code",
            "execution_count": null,
            "metadata": {},
            "outputs": [],
            "source": [
                "a = 5\n",
                "a = 4  # assign the value 4 to the variable 'a'\n",
                "print(a)"
            ]
        },
        {
            "cell_type": "code",
            "execution_count": null,
            "metadata": {},
            "outputs": [],
            "source": [
                "a = 5\n",
                "print(a == 4)  # check equality"
            ]
        },
        {
            "cell_type": "markdown",
            "metadata": {
                "slideshow": {
                    "slide_type": "subslide"
                }
            },
            "source": [
                "### Operator precedence\n",
                "\n",
                "The order of operators matters! If you are ever unsure about operator precedence, use parentheses! "
            ]
        },
        {
            "cell_type": "code",
            "execution_count": null,
            "metadata": {},
            "outputs": [],
            "source": [
                "print(a + c / b)"
            ]
        },
        {
            "cell_type": "code",
            "execution_count": null,
            "metadata": {},
            "outputs": [],
            "source": [
                "print((a + c) / b)"
            ]
        },
        {
            "cell_type": "markdown",
            "metadata": {
                "slideshow": {
                    "slide_type": "subslide"
                }
            },
            "source": [
                "### Operators and variable types\n",
                "\n",
                "We get a `TypeError` if we use an operator incorrectly"
            ]
        },
        {
            "cell_type": "code",
            "execution_count": null,
            "metadata": {
                "scrolled": true
            },
            "outputs": [],
            "source": [
                "print(True > \"abc\")"
            ]
        },
        {
            "cell_type": "code",
            "execution_count": null,
            "metadata": {
                "scrolled": true
            },
            "outputs": [],
            "source": [
                "print(\"qlsc \" + 612)"
            ]
        },
        {
            "cell_type": "markdown",
            "metadata": {
                "slideshow": {
                    "slide_type": "subslide"
                }
            },
            "source": [
                "### Operator overloading\n",
                "\n",
                "We can use the `+` operator on integers, floats, or strings"
            ]
        },
        {
            "cell_type": "code",
            "execution_count": null,
            "metadata": {},
            "outputs": [],
            "source": [
                "print(123 + 489)  # integers\n",
                "print(123.0 + 489.0)  # floats\n",
                "print(\"qlsc \" + \"612\")  # strings"
            ]
        },
        {
            "cell_type": "markdown",
            "metadata": {},
            "source": [
                "This is because the `+` operator can work differently for different data types (it is *overloaded*)"
            ]
        },
        {
            "cell_type": "markdown",
            "metadata": {
                "slideshow": {
                    "slide_type": "slide"
                }
            },
            "source": [
                "## Typecasting\n",
                "\n",
                "* Converting a variable from one type to another  \n",
                "* **Implicit**: done automatically (if possible)  \n",
                "* **Explicit**: using a function (e.g., `str`, `int`, `float`)\n",
                "    * Note that loss of data may occur (for example if casting a `float` to an `int`)"
            ]
        },
        {
            "cell_type": "code",
            "execution_count": null,
            "metadata": {},
            "outputs": [],
            "source": [
                "print(123 + 489.0)  # implicit typecasting (note that the output is a float)\n",
                "print(\"qlsc \" + str(612))  # explicit typecasting"
            ]
        },
        {
            "cell_type": "code",
            "execution_count": null,
            "metadata": {},
            "outputs": [],
            "source": [
                "# casting string to int\n",
                "print(int(\"612\"))\n",
                "print(int(\"qlsc\"))  # invalid"
            ]
        },
        {
            "cell_type": "markdown",
            "metadata": {
                "slideshow": {
                    "slide_type": "slide"
                }
            },
            "source": [
                "## Strings\n",
                "* A sequence of characters in between quotation marks (single or double, either works).\n",
                "* A single character is a string of length 1."
            ]
        },
        {
            "cell_type": "code",
            "execution_count": null,
            "metadata": {},
            "outputs": [],
            "source": [
                "message = \"Hello, I am a string\"\n",
                "print(message)"
            ]
        },
        {
            "cell_type": "markdown",
            "metadata": {
                "slideshow": {
                    "slide_type": "subslide"
                }
            },
            "source": [
                "### String indexing\n",
                "* String indexing allows you to access a particular character in a string\n",
                "* Indexing starts at 0 in Python!"
            ]
        },
        {
            "cell_type": "code",
            "execution_count": null,
            "metadata": {},
            "outputs": [],
            "source": [
                "message = \"Hello, I am a string\"\n",
                "\n",
                "print(message[0])  # first character\n",
                "print(message[1])  # second character\n",
                "print(message[-1])  # last character\n",
                "print(message[-2])  # penultimate character"
            ]
        },
        {
            "cell_type": "markdown",
            "metadata": {
                "slideshow": {
                    "slide_type": "subslide"
                }
            },
            "source": [
                "### String slicing\n",
                "\n",
                "* Selecting a substring from a string.\n",
                "* The first index is where the slice starts (inclusive), second index is where the slice ends (exclusive)"
            ]
        },
        {
            "cell_type": "code",
            "execution_count": null,
            "metadata": {
                "slideshow": {
                    "slide_type": "-"
                }
            },
            "outputs": [],
            "source": [
                "message = \"Hello, I am a string\"\n",
                "\n",
                "print(message[7:])  # 8th all the way to last character\n",
                "print(message[7:11])  # 8th to 11th character\n",
                "\n",
                "print(message[7:-7])  # can use negative indices"
            ]
        },
        {
            "cell_type": "markdown",
            "metadata": {
                "slideshow": {
                    "slide_type": "subslide"
                }
            },
            "source": [
                "### Strings are immutable: they cannot be modified"
            ]
        },
        {
            "cell_type": "code",
            "execution_count": null,
            "metadata": {
                "scrolled": true
            },
            "outputs": [],
            "source": [
                "message = \"Hello, I am a string\"\n",
                "message[1] = \"Y\""
            ]
        },
        {
            "cell_type": "code",
            "execution_count": null,
            "metadata": {},
            "outputs": [],
            "source": [
                "message = \"Hello, I am a string\"\n",
                "message = \"Y\" + message[1:]  # we can make a new string and assign it to the same variable\n",
                "print(message)"
            ]
        },
        {
            "cell_type": "markdown",
            "metadata": {
                "slideshow": {
                    "slide_type": "subslide"
                }
            },
            "source": [
                "### Some string methods/operations on strings\n",
                "\n",
                "See the [docs](https://docs.python.org/3/library/stdtypes.html#string-methods) for more!"
            ]
        },
        {
            "cell_type": "code",
            "execution_count": null,
            "metadata": {
                "slideshow": {
                    "slide_type": "-"
                }
            },
            "outputs": [],
            "source": [
                "message = \"This is a string!\"\n",
                "print(message)\n",
                "\n",
                "print(len(message))  # length of strings\n",
                "\n",
                "print(message + \" And you can add stuff on.\")  # creates a new string\n",
                "\n",
                "print(\"string\" in message)  # True if \"string\" is inside the message variable\n",
                "\n",
                "print(message.count(\"i\"))  # Counts the number of times 'i' appears in the string\n",
                "print(message.find(\"s\"))  # Finds the index of the first 's' it finds in the string"
            ]
        },
        {
            "cell_type": "markdown",
            "metadata": {
                "slideshow": {
                    "slide_type": "slide"
                }
            },
            "source": [
                "## Lists\n",
                "* Store multiple items in a single variable.\n",
                "* Comma-separated items between square brackets.\n",
                "* Items in a list need not be of the same type.\n",
                "* Lists are **ordered**: each item has a position (index).\n",
                "    * Ex: `[1,2,3]` is not the same as `[3,2,1]`\n",
                "* Lists are **mutable**: can be changed without entirely recreating the list\n",
                "    * Elements can be modified, replaced, added, deleted, order changed"
            ]
        },
        {
            "cell_type": "code",
            "execution_count": null,
            "metadata": {},
            "outputs": [],
            "source": [
                "my_list = [1, 2, 345, 42]\n",
                "print(my_list)"
            ]
        },
        {
            "cell_type": "markdown",
            "metadata": {
                "slideshow": {
                    "slide_type": "subslide"
                }
            },
            "source": [
                "### Some list operations"
            ]
        },
        {
            "cell_type": "code",
            "execution_count": null,
            "metadata": {},
            "outputs": [],
            "source": [
                "my_list = [1, 2, 345, 42]\n",
                "\n",
                "print(my_list[0])  # list indexing (just like strings)\n",
                "print(my_list[0:3])  # list slicing (just like strings)\n",
                "print(len(my_list))  # getting the number of items in a list\n",
                "print(345 in my_list)  # checking if an item is in the list\n",
                "print(sum(my_list))  # computing the sum of the items"
            ]
        },
        {
            "cell_type": "markdown",
            "metadata": {
                "slideshow": {
                    "slide_type": "subslide"
                }
            },
            "source": [
                "### Modifying a list (recall that lists are mutable)"
            ]
        },
        {
            "cell_type": "code",
            "execution_count": null,
            "metadata": {},
            "outputs": [],
            "source": [
                "my_list = [1, 2, 345, 42]\n",
                "\n",
                "print(my_list.append(\"hello\"))  # this does not return anything\n",
                "print(my_list)  # my_list is changed\n",
                "my_list.append([3, \"hi\", 4])  # appending a list to a list. Now there is a list inside another list.\n",
                "print(my_list)\n",
                "print(my_list[5][0])  # access the first element ( [0] ) of the list within a list.\n",
                "\n",
                "my_list[0] = 22  # change the value, lists are mutable\n",
                "print(my_list)\n",
                "\n",
                "del my_list[0]  # deleting an item\n",
                "print(my_list)"
            ]
        },
        {
            "cell_type": "code",
            "execution_count": null,
            "metadata": {},
            "outputs": [],
            "source": [
                "# we can concatenate lists with the + operator (this creates a new list)\n",
                "list1 = [1, 2, 3]\n",
                "list2 = [4, 5, 6]\n",
                "list3 = list1 + list2\n",
                "print(list3)"
            ]
        },
        {
            "cell_type": "markdown",
            "metadata": {
                "slideshow": {
                    "slide_type": "subslide"
                }
            },
            "source": [
                "### Be careful when assigning a list to multiple variables!"
            ]
        },
        {
            "cell_type": "code",
            "execution_count": null,
            "metadata": {},
            "outputs": [],
            "source": [
                "listA = [0]\n",
                "listB = listA\n",
                "listB.append(1)\n",
                "print(listB)  # we changed this\n",
                "print(listA)  # this is also changed (they are the same list)"
            ]
        },
        {
            "cell_type": "markdown",
            "metadata": {
                "slideshow": {
                    "slide_type": "fragment"
                }
            },
            "source": [
                "### How can we copy a list?"
            ]
        },
        {
            "cell_type": "code",
            "execution_count": null,
            "metadata": {},
            "outputs": [],
            "source": [
                "listA = [0]\n",
                "listB = listA[:]\n",
                "listB.append(1)\n",
                "print(listB)  # we changed this\n",
                "print(listA)  # this hasn't changed"
            ]
        },
        {
            "cell_type": "markdown",
            "metadata": {},
            "source": [
                "See also: [shallow vs deep copies](https://medium.com/@thawsitt/assignment-vs-shallow-copy-vs-deep-copy-in-python-f70c2f0ebd86)"
            ]
        },
        {
            "cell_type": "markdown",
            "metadata": {
                "slideshow": {
                    "slide_type": "slide"
                }
            },
            "source": [
                "## Tuples\n",
                "* Similar to lists (**ordered**), but **immutable**: they cannot be changed once they are created\n",
                "* Declared as a comma-separated list within round brackets.\n",
                "* Useful for grouping data together. **Allocated more efficiently than lists, and use less memory.**\n",
                "* Many of the operations and functions we saw for lists also work on tuples (any of them that don't update the tuple)."
            ]
        },
        {
            "cell_type": "code",
            "execution_count": null,
            "metadata": {},
            "outputs": [],
            "source": [
                "fruit_tuple = (\"apple\", \"orange\", \"banana\", \"guanabana\")\n",
                "print(fruit_tuple[3])  # tuple indexing (same as for lists/strings)\n",
                "fruit_tuple[3] = \"grape\"  # trying to modify a tuple will cause an error"
            ]
        },
        {
            "cell_type": "markdown",
            "metadata": {
                "slideshow": {
                    "slide_type": "subslide"
                }
            },
            "source": [
                "### Typecasting between lists and tuples"
            ]
        },
        {
            "cell_type": "code",
            "execution_count": null,
            "metadata": {
                "slideshow": {
                    "slide_type": "-"
                }
            },
            "outputs": [],
            "source": [
                "# we can convert a tuple into a list (and vice-versa)\n",
                "this_tuple = (1, 2, 3)\n",
                "this_list = list(this_tuple)\n",
                "print(this_list)"
            ]
        },
        {
            "cell_type": "markdown",
            "metadata": {
                "slideshow": {
                    "slide_type": "slide"
                }
            },
            "source": [
                "## Dictionaries\n",
                "* Dictionaries store entries as **key:value** pairs. Values can be accessed through their keys.\n",
                "    * They are an implementation of the [*hashmap*](https://en.wikipedia.org/wiki/Hash_table) data structure\n",
                "* They are **mutable** and **ordered as of Python 3.7** (before 3.7, they were not ordered).\n",
                "* Duplicate keys are not allowed\n",
                "* They are commonly used to store datasets, and to retrieve values from the dataset by specifying the corresponding key.\n",
                "* To define them, you enclose a comma-separated list of key-value pairs (key and value are separated by a colon) in curly braces.\n",
                "* Will see the basic functionality of these data structures, but won't go into too much in depth"
            ]
        },
        {
            "cell_type": "code",
            "execution_count": null,
            "metadata": {},
            "outputs": [],
            "source": [
                "# keys can be any hashable immutable type, such as strings or integers...or even some tuples. Usually we use strings.\n",
                "fruits_available = {\"apples\": 3, \"oranges\": 9, \"bananas\": 12, \"guanabana\": 0}\n",
                "print(fruits_available[\"apples\"])  # accessing the value associated to the \"apples\" key"
            ]
        },
        {
            "cell_type": "markdown",
            "metadata": {
                "slideshow": {
                    "slide_type": "subslide"
                }
            },
            "source": [
                "### Modifying a dictionary"
            ]
        },
        {
            "cell_type": "code",
            "execution_count": null,
            "metadata": {},
            "outputs": [],
            "source": [
                "# we can store dictionaries inside dictionaries, which are called nested dictionaries.\n",
                "fruits_nutrition = {\n",
                "    \"apple\": {\"calories\": 54, \"water_percent\": 86, \"fibre_grams\": 2.4},\n",
                "    \"orange\": {\"calories\": 60, \"water_percent\": 86, \"fibre_grams\": 3.0},\n",
                "}\n",
                "print(fruits_nutrition[\"apple\"][\"calories\"])  # note the two key levels\n",
                "\n",
                "# updating a value in a dictionary\n",
                "fruits_nutrition[\"apple\"][\"calories\"] = 52\n",
                "print(fruits_nutrition[\"apple\"][\"calories\"])\n",
                "\n",
                "# adding an item to the dictionary\n",
                "fruits_nutrition[\"banana\"] = {\"calories\": 89, \"water_percent\": 75, \"fibre_grams\": 2.6}\n",
                "print(fruits_nutrition)  # notice our dictionary now has a new fruit\n",
                "# this is different for lists, where accessing an inexistent item would cause an error\n",
                "\n",
                "# deleting an item from the dictionary\n",
                "del fruits_nutrition[\"apple\"]\n",
                "print(fruits_nutrition.keys())  # list the keys or values"
            ]
        },
        {
            "cell_type": "markdown",
            "metadata": {
                "slideshow": {
                    "slide_type": "subslide"
                }
            },
            "source": [
                "### Some dictionary methods\n",
                "\n",
                "See the [documentation](https://docs.python.org/3/library/stdtypes.html#dict) for more!"
            ]
        },
        {
            "cell_type": "code",
            "execution_count": null,
            "metadata": {},
            "outputs": [],
            "source": [
                "fruits_nutrition = {\n",
                "    \"apple\": {\"calories\": 54, \"water_percent\": 86, \"fibre_grams\": 2.4},\n",
                "    \"orange\": {\"calories\": 60, \"water_percent\": 86, \"fibre_grams\": 3.0},\n",
                "}\n",
                "\n",
                "print(fruits_nutrition.keys())  # list the keys or values\n",
                "print(fruits_nutrition[\"apple\"].keys())  # for the nested dictionary\n",
                "print(fruits_nutrition[\"apple\"].values())\n",
                "\n",
                "print(fruits_nutrition.get(\"apple\"))  # alternative way to obtain a value from a key\n",
                "print(\n",
                "    fruits_nutrition.get(\"blahblah\")\n",
                ")  # can test if entry exists without causing an error if it doesn't\n",
                "print(fruits_nutrition[\"blahblah\"])  # KeyError"
            ]
        },
        {
            "cell_type": "markdown",
            "metadata": {
                "slideshow": {
                    "slide_type": "slide"
                }
            },
            "source": [
                "## Sets (very briefly)\n",
                "\n",
                "* They are **unordered** and **mutable**\n",
                "* They cannot contain duplicate items\n",
                "* See the [documentation](https://docs.python.org/3/library/stdtypes.html#set) for more information (set operations, set methods, etc.)!"
            ]
        },
        {
            "cell_type": "code",
            "execution_count": null,
            "metadata": {},
            "outputs": [],
            "source": [
                "list_with_duplicates = [1, 2, 3, 1, 2, 3]\n",
                "unique_items = list(set(list_with_duplicates))  # cast to set, then back to list\n",
                "print(list_with_duplicates)\n",
                "print(unique_items)"
            ]
        },
        {
            "cell_type": "markdown",
            "metadata": {
                "slideshow": {
                    "slide_type": "slide"
                }
            },
            "source": [
                "## `if` statements\n",
                "* An \"if statement\" is written by using the `if` keyword.\n",
                "* The code within an `if` statement is only executed if the specified condition evaluates to `True`.\n",
                "* The code can make decisions based on conditions.\n",
                "* Can be followed by many `elif` blocks and an `else` block at the end."
            ]
        },
        {
            "cell_type": "code",
            "execution_count": null,
            "metadata": {},
            "outputs": [],
            "source": [
                "# x = 7\n",
                "x = 2\n",
                "y = 3\n",
                "\n",
                "if x > y:  # note the logic and comparison operators we saw above come in very handy\n",
                "    print(\"x is bigger than y\")\n",
                "# else statement provides an alternative plan of action if the condition evaluates to False\n",
                "else:\n",
                "    print(\"x is not bigger than y\")\n",
                "\n",
                "# we can use our logical operators to build more complex conditionals\n",
                "if x != 7 or y == 3:\n",
                "    print(\"Bingo\")"
            ]
        },
        {
            "cell_type": "markdown",
            "metadata": {
                "slideshow": {
                    "slide_type": "subslide"
                }
            },
            "source": [
                "### More `if` statement examples\n",
                "\n",
                "Logical and comparison operators (and others) can be very useful"
            ]
        },
        {
            "cell_type": "code",
            "execution_count": null,
            "metadata": {
                "slideshow": {
                    "slide_type": "-"
                }
            },
            "outputs": [],
            "source": [
                "number_list = [1, 42, 77, 777, 20]\n",
                "\n",
                "if 42 in number_list:\n",
                "    print(\"the number 42 is in the list\")\n",
                "\n",
                "if not 70 in number_list:\n",
                "    print(\"70 isn't in the list\")\n",
                "\n",
                "if 42 in number_list and 777 in number_list:\n",
                "    print(\"both 42 and 777 are in the list\")"
            ]
        },
        {
            "cell_type": "markdown",
            "metadata": {
                "slideshow": {
                    "slide_type": "slide"
                }
            },
            "source": [
                "## Loops\n",
                "* A loop is a sequence of code that is repeated until a certain condition is met.\n",
                "* There are two main types of loops, `for` loops and `while` loops.\n",
                "* All `for` loops can be written as `while` loops, and vice-versa. Just use whichever makes your life easier.\n",
                "* We will see a few examples of how to use them.\n",
                "\n",
                "### `while` loops: execute code for as long as a condition is true"
            ]
        },
        {
            "cell_type": "code",
            "execution_count": null,
            "metadata": {},
            "outputs": [],
            "source": [
                "i = 1  # initialize our counter\n",
                "while i < 6:\n",
                "    print(i)\n",
                "    i += 1  # note that we are incrementing our counter variable by 1 every time. i += 1 is the same as i = i + 1"
            ]
        },
        {
            "cell_type": "markdown",
            "metadata": {
                "slideshow": {
                    "slide_type": "subslide"
                }
            },
            "source": [
                "### The `break` statement can terminate a loop early"
            ]
        },
        {
            "cell_type": "code",
            "execution_count": null,
            "metadata": {
                "scrolled": true
            },
            "outputs": [],
            "source": [
                "# use the break command to exit the loop - The break statement terminates the loop containing it\n",
                "i = 1\n",
                "while i < 6:\n",
                "    print(i)\n",
                "    if i == 3:  # exit the loop when i takes the value of 3\n",
                "        break\n",
                "    i += 1"
            ]
        },
        {
            "cell_type": "markdown",
            "metadata": {
                "slideshow": {
                    "slide_type": "fragment"
                }
            },
            "source": [
                "### Iterating over a list"
            ]
        },
        {
            "cell_type": "code",
            "execution_count": null,
            "metadata": {},
            "outputs": [],
            "source": [
                "# Using a while loop to iterate over a list\n",
                "my_list = [\"orange\", \"apples\", \"bananas\"]\n",
                "x = 0\n",
                "while x < len(my_list):\n",
                "    print(my_list[x])\n",
                "    x += 1  # increment the index"
            ]
        },
        {
            "cell_type": "markdown",
            "metadata": {
                "slideshow": {
                    "slide_type": "subslide"
                }
            },
            "source": [
                "### `for` loops: an easier way to iterate over a sequence (strings/lists/dicts/tuples/etc.)"
            ]
        },
        {
            "cell_type": "code",
            "execution_count": null,
            "metadata": {},
            "outputs": [],
            "source": [
                "my_list = [\"orange\", \"apples\", \"bananas\"]\n",
                "for x in my_list:\n",
                "    print(x)\n",
                "\n",
                "for y in range(3):  # in range(n) - from 0 to n-1, so here it's from from 0 to 2\n",
                "    print(y)\n",
                "\n",
                "for y in range(3, 13, 3):  # from 3 to 12, in steps of 3\n",
                "    print(y)\n",
                "\n",
                "for character in \"string\":  # loop over a string's characters.\n",
                "    print(character)"
            ]
        },
        {
            "cell_type": "markdown",
            "metadata": {
                "slideshow": {
                    "slide_type": "subslide"
                }
            },
            "source": [
                "### Iterating over a dictionary"
            ]
        },
        {
            "cell_type": "code",
            "execution_count": null,
            "metadata": {},
            "outputs": [],
            "source": [
                "fruits_nutrition = {\n",
                "    \"apple\": {\"calories\": 54, \"water_percent\": 86, \"fibre_grams\": 2.4},\n",
                "    \"orange\": {\"calories\": 60, \"water_percent\": 86, \"fibre_grams\": 3.0},\n",
                "    \"banana\": {\"calories\": 89, \"water_percent\": 75, \"fibre_grams\": 2.6},\n",
                "}\n",
                "\n",
                "for key in fruits_nutrition:  # loop over the keys\n",
                "    print(key)\n",
                "\n",
                "for item in fruits_nutrition.items():  # loop over keys and values\n",
                "    print(item)\n",
                "\n",
                "for (\n",
                "    key,\n",
                "    value,\n",
                ") in fruits_nutrition.items():  # have access to both keys and values as you loop (unpack the tuple)\n",
                "    print(key, \"-->\", value[\"calories\"])"
            ]
        },
        {
            "cell_type": "markdown",
            "metadata": {
                "slideshow": {
                    "slide_type": "subslide"
                }
            },
            "source": [
                "### Nested loops: loops within a loop\n",
                "\n",
                "Keep in mind that too much nesting can slow down code!"
            ]
        },
        {
            "cell_type": "code",
            "execution_count": null,
            "metadata": {},
            "outputs": [],
            "source": [
                "my_list = [\"orange\", \"apples\", \"bananas\"]\n",
                "\n",
                "for item in my_list:\n",
                "    x = 1\n",
                "    while (\n",
                "        x <= 3\n",
                "    ):  # note that the inner 'nested' loop has to finish before the next iteration of the outer loop.\n",
                "        print(item)  # notice the double indentation below.\n",
                "        x += 1\n",
                "\n",
                "# Worth mentioning that a break statement inside a nested loop only terminates the inner loop"
            ]
        },
        {
            "cell_type": "markdown",
            "metadata": {
                "slideshow": {
                    "slide_type": "subslide"
                }
            },
            "source": [
                "### List comprehension"
            ]
        },
        {
            "cell_type": "code",
            "execution_count": null,
            "metadata": {},
            "outputs": [],
            "source": [
                "my_list = [\"orange\", \"apples\", \"bananas\"]\n",
                "\n",
                "new_my_list = [item for item in my_list if item[-1] == \"s\"]\n",
                "print(new_my_list)"
            ]
        },
        {
            "cell_type": "markdown",
            "metadata": {
                "slideshow": {
                    "slide_type": "slide"
                }
            },
            "source": [
                "## Exceptions\n",
                "* Often when we write code we are faced with handling errors in it. Python offers ways to allow us gracefully deal with these errors.\n",
                "* Code inside a `try` block lets you test the code for errors.\n",
                "* The `except` block lets you decide what to do in the case that there is an error inside the `try` block\n",
                "* The `finally` block allowed you to execute code regardless of the result of the `try` and `except` blocks"
            ]
        },
        {
            "cell_type": "code",
            "execution_count": null,
            "metadata": {},
            "outputs": [],
            "source": [
                "# in this piece of code, the variable w is not defined, so it throws an error\n",
                "try:\n",
                "    print(w)  # this code inside the try block is tested for error\n",
                "except Exception:\n",
                "    # the code inside the except block is executed if there are errors. The program does not crash with an error\n",
                "    print(\"An exception occurred\")"
            ]
        },
        {
            "cell_type": "markdown",
            "metadata": {
                "slideshow": {
                    "slide_type": "subslide"
                }
            },
            "source": [
                "### Using multiple `except` blocks\n",
                "\n",
                "Go from more specific to more general"
            ]
        },
        {
            "cell_type": "code",
            "execution_count": null,
            "metadata": {},
            "outputs": [],
            "source": [
                "try:\n",
                "    #     print(int('w')) # TypeError\n",
                "    print(w)  # NameError\n",
                "\n",
                "# the code throws a name error when it fails outside a try block\n",
                "# so if we know this is a possibility, we catch it specifically.\n",
                "except NameError:\n",
                "    print(\"Variable w is not defined\")\n",
                "\n",
                "# and this code catches more general errors, in case something else unexpected goes wrong.\n",
                "except Exception:\n",
                "    print(\"Something else went wrong\")"
            ]
        },
        {
            "cell_type": "markdown",
            "metadata": {
                "slideshow": {
                    "slide_type": "subslide"
                }
            },
            "source": [
                "### Code in the `finally` block is always executed"
            ]
        },
        {
            "cell_type": "code",
            "execution_count": null,
            "metadata": {},
            "outputs": [],
            "source": [
                "try:\n",
                "    print(w)\n",
                "    print(\"This is not executed\")\n",
                "except NameError:\n",
                "    print(\"Something went wrong\")\n",
                "finally:\n",
                "    print(\"This executes even if there is an error\")"
            ]
        },
        {
            "cell_type": "markdown",
            "metadata": {
                "slideshow": {
                    "slide_type": "slide"
                }
            },
            "source": [
                "## Functions\n",
                "\n",
                "* Block of organized, reusable code that is typically used to perform a single action.\n",
                "* Can be seen from outside as a black box: **given some input, it returns an output (although they don't always need an output)**.\n",
                "* While these input names are often used interchangeably, \"parameters\" refers to the names in the function definition, and \"arguments\" refers to the values passed in the function call."
            ]
        },
        {
            "cell_type": "code",
            "execution_count": null,
            "metadata": {},
            "outputs": [],
            "source": [
                "def summing_two_nums(\n",
                "    x, y\n",
                "):  # make a new function by using def followed by the function name you will give it.\n",
                "    return x + y\n",
                "\n",
                "\n",
                "print(summing_two_nums(1, 4))  # call the function with inputs 1 and 4.\n",
                "print(summing_two_nums(3, 3))  # reuse the same function\n",
                "\n",
                "\n",
                "def appending_to_list(input_list, new_item):\n",
                "    input_list.append(new_item)\n",
                "    return input_list\n",
                "\n",
                "\n",
                "print(appending_to_list([1, 2, 3], 4))"
            ]
        },
        {
            "cell_type": "markdown",
            "metadata": {
                "slideshow": {
                    "slide_type": "subslide"
                }
            },
            "source": [
                "### Variable scope\n",
                "\n",
                "Variables defined within a function are known as **local variables**: they stop existing once the function returns.  \n",
                "Variables outside of functions are known as **global variables**. They can be accessed inside functions (provided there is no local variable with the same name)."
            ]
        },
        {
            "cell_type": "code",
            "execution_count": null,
            "metadata": {},
            "outputs": [],
            "source": [
                "def my_function(my_variable):\n",
                "    my_variable = \"bar\"  # local variable with the same name as the global variable\n",
                "    for i in range(n):  # accessing a global variable\n",
                "        print(\"my_variable inside the function: \" + my_variable)\n",
                "\n",
                "\n",
                "my_variable = \"foo\"  # global variable\n",
                "n = 2\n",
                "print(\"my_variable outside the function: \" + my_variable)\n",
                "\n",
                "my_function(my_variable)\n",
                "\n",
                "print(\"my_variable outside the function again: \" + my_variable)  # unchanged"
            ]
        },
        {
            "cell_type": "markdown",
            "metadata": {
                "slideshow": {
                    "slide_type": "subslide"
                }
            },
            "source": [
                "### Passing mutable objects to functions\n",
                "\n",
                "* If the function modifies the mutable object, it will also be modified outside of the function.\n",
                "* This is because the function argument **refers to the same object** as the variable outside the function. It is not a copy.\n",
                "* Python uses **passing-by-assignment**. See this [blog post](https://mathspp.com/blog/pydonts/pass-by-value-reference-and-assignment) for more information about passing-by-value vs passing-by-reference vs passing-by-assignment."
            ]
        },
        {
            "cell_type": "code",
            "execution_count": null,
            "metadata": {},
            "outputs": [],
            "source": [
                "def change_list(my_list_inside):\n",
                "    my_list_inside.append([1, 2, 3, 4])\n",
                "    print(\"Values inside the function: \", my_list_inside)\n",
                "    return  # note that we are not returning anything\n",
                "\n",
                "\n",
                "my_list = [10, 20, 30]\n",
                "change_list(my_list)\n",
                "print(\"Values outside the function: \", my_list)  # changed"
            ]
        },
        {
            "cell_type": "markdown",
            "metadata": {
                "slideshow": {
                    "slide_type": "skip"
                }
            },
            "source": [
                "**Please note that the lecture video was mistaken about this and we are correcting it in these notes!**\n",
                "\n",
                "* The lecture video says that function arguments are passed by reference, which is incorrect.\n",
                "* In reality, all arguments in Python are passed by assignment (also called passed by sharing, or pass by Object Reference).\n",
                "* It is similar to passing by reference in the sense that the function gets passed a reference as an argument, as opposed to the actual value of the argument. However, this is not the full story, because the calling function is not given access to the variable references themselves, but merely to objects.\n",
                "* It is also similar to pass by value in the sense that object references are passed by value.\n",
                "* The important practical thing to remember for mutable objects such as lists, is that if you change what a parameter refers to inside a function, the change also reflects back in the calling function."
            ]
        },
        {
            "cell_type": "markdown",
            "metadata": {
                "slideshow": {
                    "slide_type": "slide"
                }
            },
            "source": [
                "## Importing libraries\n",
                "* Can import libraries to use functions that other people have written and are inside these libraries.\n",
                "* Some are included by default in Python, and some have to be installed.\n",
                "* Installing libraries depends on your environment manager\n",
                "    * `conda install [PACKAGE_NAME]`\n",
                "    * `pip install [PACKAGE_NAME]`"
            ]
        },
        {
            "cell_type": "code",
            "execution_count": null,
            "metadata": {},
            "outputs": [],
            "source": [
                "import math\n",
                "\n",
                "print(math.pi)  # constant\n",
                "print(math.factorial(5))\n",
                "\n",
                "from math import factorial\n",
                "\n",
                "print(factorial(5))"
            ]
        },
        {
            "cell_type": "markdown",
            "metadata": {
                "slideshow": {
                    "slide_type": "subslide"
                }
            },
            "source": [
                "### Another `import` example"
            ]
        },
        {
            "cell_type": "code",
            "execution_count": null,
            "metadata": {
                "slideshow": {
                    "slide_type": "-"
                }
            },
            "outputs": [],
            "source": [
                "from IPython.display import (\n",
                "    YouTubeVideo,\n",
                ")  # Importing the YouTubeVideo function from the IPython.display module\n",
                "\n",
                "YouTubeVideo(\"ml6VkmtLXpA\", 560, 315, rel=0)"
            ]
        },
        {
            "cell_type": "markdown",
            "metadata": {
                "slideshow": {
                    "slide_type": "slide"
                }
            },
            "source": [
                "## A very brief introduction to classes and objects\n",
                "* Classes are used to create **user-defined data structures**. They can have their own variables (called **attributes**) and functions (called **methods**)\n",
                "* Attributes and methods are accessed with the **dot (`.`) operator**\n",
                "* An **object** is an instance of a class (class =  blueprint) and contains real data"
            ]
        },
        {
            "cell_type": "code",
            "execution_count": null,
            "metadata": {},
            "outputs": [],
            "source": [
                "class Dog:\n",
                "    # Class attribute - all objects\n",
                "    species = \"Canis familiaris\"\n",
                "\n",
                "    def __init__(self, name, age):  # Specific to instance\n",
                "        self.name = name\n",
                "        self.age = age\n",
                "\n",
                "    def description(self):\n",
                "        return f\"{self.name} is {self.age} years old\"\n",
                "\n",
                "\n",
                "my_dog = Dog(\"Bonzo\", 7)\n",
                "print(my_dog.name)\n",
                "print(my_dog.description())\n",
                "print(my_dog.species)"
            ]
        },
        {
            "cell_type": "markdown",
            "metadata": {
                "slideshow": {
                    "slide_type": "slide"
                }
            },
            "source": [
                "## That's it for now!\n",
                "\n",
                "This was a very brief overview of Python, with the goal of providing you with the basic knowledge needed for the rest of the course. There are plenty of resources online (websites/articles/videos) if you want to learn more on your own. I also recommend the [Think Python 2e textbook](https://greenteapress.com/wp/think-python-2e/). \n",
                "\n",
                "Remember, the only way to learn (and/or become better at) programming is through practice!\n"
            ]
        }
    ],
    "metadata": {
        "celltoolbar": "Slideshow",
        "kernelspec": {
            "display_name": "Python 3 (ipykernel)",
            "language": "python",
            "name": "python3"
        },
        "language_info": {
            "codemirror_mode": {
                "name": "ipython",
                "version": 3
            },
            "file_extension": ".py",
            "mimetype": "text/x-python",
            "name": "python",
            "nbconvert_exporter": "python",
            "pygments_lexer": "ipython3",
            "version": "3.9.16"
        },
        "toc": {
            "nav_menu": {},
            "number_sections": true,
            "sideBar": true,
            "skip_h1_title": false,
            "toc_cell": false,
            "toc_position": {},
            "toc_section_display": "block",
            "toc_window_display": false
        },
        "toc-autonumbering": true,
        "toc-showmarkdowntxt": true
    },
    "nbformat": 4,
    "nbformat_minor": 4
}
