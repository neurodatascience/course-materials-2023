{
 "cells": [
  {
   "cell_type": "code",
   "execution_count": null,
   "id": "438148f9",
   "metadata": {},
   "outputs": [],
   "source": [
    "import pandas as pd  # Importing the pandas module\n",
    "import numpy as np  # Importing numpy\n",
    "import matplotlib.pyplot as plt\n",
    "from nilearn.datasets import fetch_abide_pcp\n",
    "import statsmodels as stm\n",
    "\n",
    "%matplotlib inline"
   ]
  },
  {
   "cell_type": "markdown",
   "id": "a4cb2912",
   "metadata": {},
   "source": [
    "# Part I : introduction to scipy and csv wrangling"
   ]
  },
  {
   "cell_type": "markdown",
   "id": "d4295706",
   "metadata": {},
   "source": [
    "## A couple of scipy examples"
   ]
  },
  {
   "cell_type": "markdown",
   "id": "550b347e",
   "metadata": {},
   "source": [
    "### scipy example 0 : linalg "
   ]
  },
  {
   "cell_type": "code",
   "execution_count": null,
   "id": "ebdcbb24",
   "metadata": {},
   "outputs": [],
   "source": [
    "from scipy import linalg as lin\n",
    "\n",
    "A = np.array([[1, 2], [3, 4], [5, 6]])\n",
    "\n",
    "# svd decomposition\n",
    "u, la, vt = lin.svd(A, 0)\n",
    "\n",
    "print(vt.shape)\n",
    "print(u.shape)\n",
    "\n",
    "l1, l2 = la[0], la[1]\n",
    "print(l1, l2)  # eigenvalues\n",
    "# print('u[:,0] = ', u[:,0])\n",
    "# print('vt[0,:] = ',vt[0,:])   # first eigenvector\n",
    "\n",
    "print(np.sum(abs(vt**2), axis=0))  # eigenvectors are unitary\n",
    "\n",
    "assert np.allclose(np.sum(abs(vt**2), axis=0), 1)\n",
    "\n",
    "print(lin.norm(A - u @ np.diag(la) @ vt))  # check the computation"
   ]
  },
  {
   "cell_type": "markdown",
   "id": "39d12871",
   "metadata": {},
   "source": [
    "### scipy example 1 : optimize"
   ]
  },
  {
   "cell_type": "code",
   "execution_count": null,
   "id": "efdaf4e6",
   "metadata": {},
   "outputs": [],
   "source": [
    "from scipy import optimize"
   ]
  },
  {
   "cell_type": "code",
   "execution_count": null,
   "id": "e3bbf74f",
   "metadata": {},
   "outputs": [],
   "source": [
    "x_data = np.linspace(-5, 5, num=50)\n",
    "\n",
    "y_data = 2.9 * np.sin(1.5 * x_data) + np.random.normal(size=50)\n",
    "\n",
    "fig, ax = plt.subplots()\n",
    "ax.plot(x_data, y_data)\n",
    "\n",
    "\n",
    "def test_func(x, a, b):\n",
    "    return a * np.sin(b * x)\n",
    "\n",
    "\n",
    "# optimize\n",
    "params, params_covariance = optimize.curve_fit(test_func, x_data, y_data, p0=[2, 2])\n",
    "print(params)\n",
    "\n",
    "y_fitted = test_func(x_data, params[0], params[1])\n",
    "ax.plot(x_data, y_fitted, \"-o\")"
   ]
  },
  {
   "cell_type": "markdown",
   "id": "7feb1202",
   "metadata": {},
   "source": [
    "### scipy example 2:  ndimage"
   ]
  },
  {
   "cell_type": "code",
   "execution_count": null,
   "id": "ff13be28",
   "metadata": {},
   "outputs": [],
   "source": [
    "# img = plt.imread('./moonlanding.png').astype(float)\n",
    "# plt.imshow(img)\n",
    "# plt.title('Original image')\n",
    "\n",
    "np.random.seed(0)\n",
    "x, y = np.indices((100, 100))\n",
    "sig = np.sin(2 * np.pi * x / 50.0) * np.sin(2 * np.pi * y / 50.0) * (1 + x * y / 50.0**2) ** 2\n",
    "mask = sig > 1\n",
    "\n",
    "plt.figure(figsize=(5, 2.5))\n",
    "plt.subplot(1, 2, 1)\n",
    "plt.imshow(sig)\n",
    "plt.axis(\"off\")\n",
    "plt.title(\"sig\")\n",
    "plt.subplot(1, 2, 2)\n",
    "plt.imshow(mask, cmap=plt.cm.gray)\n",
    "plt.axis(\"off\")\n",
    "plt.title(\"mask\")\n",
    "plt.subplots_adjust(wspace=0.05, left=0.01, bottom=0.01, right=0.99, top=0.9)"
   ]
  },
  {
   "cell_type": "code",
   "execution_count": null,
   "id": "32f205fc",
   "metadata": {},
   "outputs": [],
   "source": [
    "from scipy import ndimage\n",
    "\n",
    "labels, nb = ndimage.label(mask)\n",
    "plt.figure(figsize=(2.5, 2.5))\n",
    "plt.imshow(labels)\n",
    "plt.title(\"label\")\n",
    "plt.axis(\"off\")\n",
    "plt.subplots_adjust(wspace=0.05, left=0.01, bottom=0.01, right=0.99, top=0.9)"
   ]
  },
  {
   "cell_type": "code",
   "execution_count": null,
   "id": "f5fcc8ea",
   "metadata": {},
   "outputs": [],
   "source": [
    "sl = ndimage.find_objects(labels == 4)\n",
    "plt.figure(figsize=(2.5, 2.5))\n",
    "plt.imshow(sig[sl[0]])\n",
    "plt.title(\"Cropped connected component\")\n",
    "plt.axis(\"off\")\n",
    "plt.subplots_adjust(wspace=0.05, left=0.01, bottom=0.01, right=0.99, top=0.9)"
   ]
  },
  {
   "cell_type": "code",
   "execution_count": null,
   "id": "0cbba324",
   "metadata": {},
   "outputs": [],
   "source": []
  },
  {
   "cell_type": "markdown",
   "id": "797f3f48",
   "metadata": {},
   "source": [
    "* **Signal processing:** scipy.signal\n",
    "* **Integration:** scipy.integrate\n",
    "* **Image processing:**\" scikit image\n",
    "* **Stats:** scipy.stats\n",
    "* **optimization:** scipy.optimize\n",
    "* **linear algebra:** scipy.linalg \n",
    "* **differential equations** scipy....\n",
    "* **etc etc etc etc...**"
   ]
  },
  {
   "cell_type": "markdown",
   "id": "b1c2a279",
   "metadata": {},
   "source": [
    "## CSV wrangling"
   ]
  },
  {
   "cell_type": "code",
   "execution_count": null,
   "id": "d45149b6",
   "metadata": {},
   "outputs": [],
   "source": [
    "# data_dir=\"\" arg if you wish to store this file elsewhere, default is $HOME/nilearn_data\n",
    "abide = fetch_abide_pcp(legacy_format=False, derivatives=[])"
   ]
  },
  {
   "cell_type": "code",
   "execution_count": null,
   "id": "df24cd6c",
   "metadata": {},
   "outputs": [],
   "source": [
    "data = abide.phenotypic\n",
    "print(type(data), len(data))\n",
    "colnames = list(abide.phenotypic.columns)"
   ]
  },
  {
   "cell_type": "code",
   "execution_count": null,
   "id": "5b1c0f25",
   "metadata": {},
   "outputs": [],
   "source": [
    "print(colnames)"
   ]
  },
  {
   "cell_type": "code",
   "execution_count": null,
   "id": "1662d315",
   "metadata": {},
   "outputs": [],
   "source": [
    "to_keep = [\n",
    "    \"i\",\n",
    "    \"SUB_ID\",\n",
    "    \"SITE_ID\",\n",
    "    \"DX_GROUP\",\n",
    "    \"AGE_AT_SCAN\",\n",
    "    \"SEX\",\n",
    "    \"FIQ\",\n",
    "    \"VIQ\",\n",
    "    \"PIQ\",\n",
    "    \"func_mean_fd\",\n",
    "]"
   ]
  },
  {
   "cell_type": "code",
   "execution_count": null,
   "id": "60c30ded",
   "metadata": {},
   "outputs": [],
   "source": [
    "kdata = data[to_keep]"
   ]
  },
  {
   "cell_type": "code",
   "execution_count": null,
   "id": "2eb4aaa7",
   "metadata": {},
   "outputs": [],
   "source": [
    "print(kdata.columns)"
   ]
  },
  {
   "cell_type": "code",
   "execution_count": null,
   "id": "8db12f04",
   "metadata": {},
   "outputs": [],
   "source": [
    "kdata.describe()"
   ]
  },
  {
   "cell_type": "code",
   "execution_count": null,
   "id": "5e2f63b3",
   "metadata": {},
   "outputs": [],
   "source": [
    "plt.hist(kdata[\"func_mean_fd\"], bins=50);"
   ]
  },
  {
   "cell_type": "code",
   "execution_count": null,
   "id": "0554b216",
   "metadata": {},
   "outputs": [],
   "source": [
    "plt.hist(kdata[\"SEX\"], bins=50)\n",
    "#\n",
    "print(type(kdata[\"SEX\"]))\n",
    "print(np.unique(kdata[\"SEX\"]))\n",
    "print(pd.unique(kdata[\"SEX\"]))"
   ]
  },
  {
   "cell_type": "code",
   "execution_count": null,
   "id": "b6b9eacd",
   "metadata": {},
   "outputs": [],
   "source": [
    "my_var = \"VIQ\"\n",
    "plt.hist(kdata[my_var], bins=50)\n",
    "#\n",
    "print(type(kdata[my_var]))\n",
    "print(np.unique(kdata[my_var]), len(np.unique(kdata[my_var])))"
   ]
  },
  {
   "cell_type": "markdown",
   "id": "87bd1c21",
   "metadata": {},
   "source": [
    "OK, -9999 seems like encoding a missing value. Let's make that assumption "
   ]
  },
  {
   "cell_type": "code",
   "execution_count": null,
   "id": "5d2b4dba",
   "metadata": {},
   "outputs": [],
   "source": [
    "type(kdata[kdata[\"VIQ\"] < 50].index)"
   ]
  },
  {
   "cell_type": "code",
   "execution_count": null,
   "id": "485cd0ff",
   "metadata": {},
   "outputs": [],
   "source": [
    "# ckdata = kdata.drop\n",
    "kdata = kdata.drop(kdata[kdata[\"VIQ\"] < 50].index)\n",
    "kdata.describe()"
   ]
  },
  {
   "cell_type": "markdown",
   "id": "c9411d34",
   "metadata": {},
   "source": [
    "What is wrong with this method ? Note that we haven't yet defined how we will analyze these data."
   ]
  },
  {
   "cell_type": "code",
   "execution_count": null,
   "id": "7abb9f56",
   "metadata": {},
   "outputs": [],
   "source": [
    "list(kdata.columns)[1:]"
   ]
  },
  {
   "cell_type": "code",
   "execution_count": null,
   "id": "5fdcf873",
   "metadata": {},
   "outputs": [],
   "source": [
    "kdata = data[to_keep]\n",
    "for mycol in [\"VIQ\", \"FIQ\", \"PIQ\", \"func_mean_fd\"]:  # ,'func_mean_fd','SEX','AGE_AT_SCAN']:\n",
    "    try:\n",
    "        kdata = kdata.drop(kdata[kdata[mycol] < -9998].index)\n",
    "    except:\n",
    "        print(mycol)"
   ]
  },
  {
   "cell_type": "code",
   "execution_count": null,
   "id": "4fde7e37",
   "metadata": {},
   "outputs": [],
   "source": [
    "kdata = kdata.dropna()"
   ]
  },
  {
   "cell_type": "code",
   "execution_count": null,
   "id": "4570a9b4",
   "metadata": {},
   "outputs": [],
   "source": [
    "kdata.describe()"
   ]
  },
  {
   "cell_type": "markdown",
   "id": "0c8f181d",
   "metadata": {},
   "source": [
    "What if the NaN values or missing values are not randomly distributed ? "
   ]
  },
  {
   "cell_type": "code",
   "execution_count": null,
   "id": "50e183d5",
   "metadata": {},
   "outputs": [],
   "source": [
    "# Let's assume 1 is male and 2 is female\n",
    "kdata = kdata.replace({\"SEX\": {1: \"male\", 2: \"female\"}})"
   ]
  },
  {
   "cell_type": "code",
   "execution_count": null,
   "id": "2193c88a",
   "metadata": {},
   "outputs": [],
   "source": [
    "print(kdata.head())\n",
    "kdata.describe()"
   ]
  },
  {
   "cell_type": "markdown",
   "id": "a5e8e0d1",
   "metadata": {},
   "source": [
    "Ok, we are all set, right ? dataset is clean. Let's do a last check, surely for nothing."
   ]
  },
  {
   "cell_type": "code",
   "execution_count": null,
   "id": "62c07e52",
   "metadata": {},
   "outputs": [],
   "source": [
    "plt.hist(kdata[\"FIQ\"], bins=50);"
   ]
  },
  {
   "cell_type": "code",
   "execution_count": null,
   "id": "dbcdaa20",
   "metadata": {},
   "outputs": [],
   "source": []
  },
  {
   "cell_type": "code",
   "execution_count": null,
   "id": "e423a675",
   "metadata": {},
   "outputs": [],
   "source": [
    "print(\"kdata.shape: \", kdata.shape)\n",
    "print(\"kdata.columns: \", kdata.columns)  # It has columns\n",
    "print(\"\\nFemale VIQ mean: \", kdata[kdata[\"SEX\"] == \"female\"][\"VIQ\"].mean())\n",
    "print(\"\\nMale VIQ mean: \", kdata[kdata[\"SEX\"] == \"male\"][\"VIQ\"].mean())"
   ]
  },
  {
   "cell_type": "code",
   "execution_count": null,
   "id": "1a07e66b",
   "metadata": {},
   "outputs": [],
   "source": [
    "# \"Group by\"\n",
    "groupby_sex = kdata.groupby(\"SEX\")\n",
    "for sex, value in groupby_sex[\"PIQ\"]:\n",
    "    print((sex, value.mean()))"
   ]
  },
  {
   "cell_type": "code",
   "execution_count": null,
   "id": "3d6dac15",
   "metadata": {},
   "outputs": [],
   "source": [
    "# how would you investigate what is a groupby_sex object ?"
   ]
  },
  {
   "cell_type": "code",
   "execution_count": null,
   "id": "5fe10c2e",
   "metadata": {},
   "outputs": [],
   "source": []
  },
  {
   "cell_type": "markdown",
   "id": "0674ddc4",
   "metadata": {},
   "source": [
    "# Part II : simple stats with scipy stats"
   ]
  },
  {
   "cell_type": "code",
   "execution_count": null,
   "id": "06f47b82",
   "metadata": {},
   "outputs": [],
   "source": [
    "from scipy import stats\n",
    "from scipy import stats as sst"
   ]
  },
  {
   "cell_type": "markdown",
   "id": "675da445",
   "metadata": {},
   "source": [
    "## A quick detour by an effect size question"
   ]
  },
  {
   "cell_type": "markdown",
   "id": "b4e05f4c",
   "metadata": {},
   "source": [
    "Cohen's d effect size : \n",
    "\n",
    "$\\hspace{3cm} d = \\frac{\\mu}{\\sigma}$\n",
    "\n",
    "$\\mu$ the non normalized effect size, $\\sigma$ the standard deviation of the **data**\n",
    "\n",
    "Author report: APOE effect on hippocampal volume has a p value of 6.6311e-10, n=733\n",
    "What is the effect size of APOE on the hippocampal volume ?\n"
   ]
  },
  {
   "cell_type": "code",
   "execution_count": null,
   "id": "50d0e400",
   "metadata": {},
   "outputs": [],
   "source": [
    "# create a normal(0,1) variable\n",
    "p_val = 6.6311e-10\n",
    "sample_size = 733\n",
    "\n",
    "n01 = sst.norm(0, 1.0)\n",
    "t733 = sst.t(df=sample_size)\n",
    "\n",
    "z = n01.isf(p_val)\n",
    "t = t733.isf(p_val)\n",
    "\n",
    "check_p = 1 - n01.cdf(z)\n",
    "# print(check_p)\n",
    "assert np.isclose(check_p, p_val)\n",
    "\n",
    "d = n01.isf(p_val) / np.sqrt(sample_size)\n",
    "d_with_t_distrib = t733.isf(p_val) / np.sqrt(sample_size)\n",
    "\n",
    "print(\"z = {:4.3f}; d_with_normal    = {:4.3f};\".format(z, d))\n",
    "print(\"t = {:4.3f}; d_with_t_distrib = {:4.3f};\".format(t, d_with_t_distrib))"
   ]
  },
  {
   "cell_type": "code",
   "execution_count": null,
   "id": "4d3d9008",
   "metadata": {},
   "outputs": [],
   "source": [
    "# scipy stats has a great number of distribution, all with pdf cdf, sf, isf, etc ...\n",
    "# but you can also sample from these:\n",
    "n, start, width = 1000, 10, 20\n",
    "unif10_20 = sst.uniform(loc=start, scale=width)\n",
    "data_uniform = unif10_20.rvs(size=(n,))\n",
    "\n",
    "fig, ax = plt.subplots(1, 1)\n",
    "_ = ax.hist(data_uniform, bins=50, color=\"skyblue\", linewidth=15, alpha=1)\n",
    "\n",
    "ax.set_xlabel(\"Uniform Distribution\")\n",
    "ax.set_ylabel(\"count\");"
   ]
  },
  {
   "cell_type": "markdown",
   "id": "4eb59124",
   "metadata": {},
   "source": [
    "## Probability distributions : discrete, continuous"
   ]
  },
  {
   "cell_type": "markdown",
   "id": "4b523516",
   "metadata": {},
   "source": [
    "![title](stats-distrib.png)"
   ]
  },
  {
   "cell_type": "code",
   "execution_count": null,
   "id": "570397b2",
   "metadata": {},
   "outputs": [],
   "source": []
  },
  {
   "cell_type": "markdown",
   "id": "6b5c05f8",
   "metadata": {},
   "source": [
    "\n",
    "## Simple statistical tests:\n",
    "\n",
    "https://en.wikipedia.org/wiki/Statistical_hypothesis_testing\n",
    "\n",
    "we will use the `scipy.stats` sub-module of [scipy](http://docs.scipy.org/doc/)"
   ]
  },
  {
   "cell_type": "markdown",
   "id": "861dbe8c",
   "metadata": {},
   "source": [
    "## Student's t-test: one of the simplest statistical test"
   ]
  },
  {
   "cell_type": "markdown",
   "id": "03db283a",
   "metadata": {},
   "source": [
    "`scipy.stats.ttest_1samp`\n",
    "\n",
    "tests if the population mean of data is likely to be equal to a given value (technically if observations are\n",
    "drawn from a Gaussian distributions of given population mean). It returns the [T statistic](https://en.wikipedia.org/wiki/Student%27s_t-test), and the [p-value](https://en.wikipedia.org/wiki/P-value) (see the\n",
    "function's help)"
   ]
  },
  {
   "cell_type": "code",
   "execution_count": null,
   "id": "a8559571",
   "metadata": {},
   "outputs": [],
   "source": [
    "stats.ttest_1samp(kdata[\"VIQ\"], 110)"
   ]
  },
  {
   "cell_type": "markdown",
   "id": "59e58390",
   "metadata": {},
   "source": [
    "## Wait, what's a p-value again?\n",
    "\n",
    "Probability of observing a statistic equal to the one seen in the data, \n",
    "or one that is more extreme, when the null hypothesis is true"
   ]
  },
  {
   "cell_type": "markdown",
   "id": "f3278fa4",
   "metadata": {},
   "source": [
    "Requires:\n",
    "* Knowledge of the null hypothesis\n",
    "* Choice of a statistic\n",
    "* Concept of repeating the whole study in the same way\n",
    "    - Same study design\n",
    "    - Same sampling scheme\n",
    "    - Same definition of the statistic"
   ]
  },
  {
   "cell_type": "code",
   "execution_count": null,
   "id": "49fcbcb2",
   "metadata": {},
   "outputs": [],
   "source": []
  },
  {
   "cell_type": "markdown",
   "id": "cc3f70a5",
   "metadata": {},
   "source": [
    "### 2-sample t-test: testing for difference across populations\n",
    "\n",
    "We have seen above that the mean VIQ in the  male and  \n",
    "female populations were different. To test if this is  \n",
    "significant, we do a 2-sample t-test with  \n",
    "\n",
    "`scipy.stats.ttest_ind`\n"
   ]
  },
  {
   "cell_type": "code",
   "execution_count": null,
   "id": "b8c5e117",
   "metadata": {},
   "outputs": [],
   "source": [
    "np.set_printoptions(precision=4)  # he non !\n",
    "\n",
    "my_col = \"PIQ\"\n",
    "\n",
    "female_viq = kdata[kdata[\"SEX\"] == \"female\"][my_col]\n",
    "male_viq = kdata[kdata[\"SEX\"] == \"male\"][my_col]\n",
    "stats.ttest_ind(female_viq, male_viq, alternative=\"less\")"
   ]
  },
  {
   "cell_type": "code",
   "execution_count": null,
   "id": "19945e8f",
   "metadata": {},
   "outputs": [],
   "source": [
    "# sst.ttest_ind?"
   ]
  },
  {
   "cell_type": "markdown",
   "id": "3d2426a8",
   "metadata": {},
   "source": [
    "Even with the most simple test, many hypotheses and many things to know. Investing in a stat course is a good idea."
   ]
  },
  {
   "cell_type": "markdown",
   "id": "5dd7b3eb",
   "metadata": {},
   "source": [
    "### Paired tests: repeated measurements on the same individuals\n",
    "\n",
    "PIQ, VIQ, and FIQ give 3 measures of IQ.  \n",
    "Let us test if FIQ and PIQ are significantly  \n",
    "different. We can use a 2 sample test"
   ]
  },
  {
   "cell_type": "code",
   "execution_count": null,
   "id": "cb7e83d3",
   "metadata": {},
   "outputs": [],
   "source": [
    "# Box plots of different columns for each gender\n",
    "groupby_sex.boxplot(column=[\"FIQ\", \"VIQ\", \"PIQ\"])\n",
    "groupby_sex.groups"
   ]
  },
  {
   "cell_type": "code",
   "execution_count": null,
   "id": "16fa8731",
   "metadata": {},
   "outputs": [],
   "source": [
    "female_viq = kdata[kdata[\"SEX\"] == \"female\"][\"VIQ\"]\n",
    "female_piq = kdata[kdata[\"SEX\"] == \"female\"][\"PIQ\"]\n",
    "stats.ttest_ind(female_viq, female_piq)"
   ]
  },
  {
   "cell_type": "markdown",
   "id": "8f5049bf",
   "metadata": {},
   "source": [
    "### Can you see a problem with this approach ?"
   ]
  },
  {
   "cell_type": "markdown",
   "id": "441bc742",
   "metadata": {},
   "source": [
    "The problem with this approach is that it forgets that there are links between  \n",
    "observations: FSIQ and PIQ are measured on the same individuals. Thus the  \n",
    "variance due to inter-subject variability is confounding, and can be removed,  \n",
    "using a \"paired test\", or [\"repeated measures test\"](https://en.wikipedia.org/wiki/Repeated_measures_design)  "
   ]
  },
  {
   "cell_type": "code",
   "execution_count": null,
   "id": "b8014ca3",
   "metadata": {},
   "outputs": [],
   "source": [
    "sst.ttest_rel(kdata[\"FIQ\"], kdata[\"PIQ\"])"
   ]
  },
  {
   "cell_type": "code",
   "execution_count": null,
   "id": "52fb1d92",
   "metadata": {},
   "outputs": [],
   "source": [
    "# T-tests assume Gaussian errors.\n",
    "# We can use a [Wilcoxon signed-rank test](https://en.wikipedia.org/wiki/Wilcoxon_signed-rank_test) that relaxes this assumption:\n",
    "\n",
    "stats.wilcoxon(kdata[\"FIQ\"], kdata[\"PIQ\"])"
   ]
  },
  {
   "cell_type": "markdown",
   "id": "4a54a916",
   "metadata": {},
   "source": [
    "## Linear regression with statsmodels"
   ]
  },
  {
   "cell_type": "code",
   "execution_count": null,
   "id": "80793ac8",
   "metadata": {},
   "outputs": [],
   "source": [
    "kdata.columns"
   ]
  },
  {
   "cell_type": "code",
   "execution_count": null,
   "id": "aae8cdf9",
   "metadata": {},
   "outputs": [],
   "source": [
    "from statsmodels.formula.api import ols\n",
    "\n",
    "\n",
    "model = ols(\"VIQ ~ SEX + DX_GROUP + AGE_AT_SCAN + func_mean_fd\", kdata).fit()\n",
    "print(model.summary())"
   ]
  },
  {
   "cell_type": "code",
   "execution_count": null,
   "id": "d0a479fd",
   "metadata": {},
   "outputs": [],
   "source": [
    "# model.f_test?"
   ]
  },
  {
   "cell_type": "code",
   "execution_count": null,
   "id": "17ffc8e5",
   "metadata": {},
   "outputs": [],
   "source": [
    "# Here, we don't need to define a contrast, as we are testing a single\n",
    "# coefficient of our model, and not a combination of coefficients.\n",
    "# However, defining a contrast, which would then be a 'unit contrast',\n",
    "# will give us the same results\n",
    "A = np.identity(5)\n",
    "model.f_test(A[4, :])"
   ]
  },
  {
   "cell_type": "code",
   "execution_count": null,
   "id": "43dd8151",
   "metadata": {},
   "outputs": [],
   "source": [
    "model.model.endog_names"
   ]
  },
  {
   "cell_type": "code",
   "execution_count": null,
   "id": "c72813df",
   "metadata": {},
   "outputs": [],
   "source": [
    "model.model.exog_names"
   ]
  },
  {
   "cell_type": "code",
   "execution_count": null,
   "id": "718970a0",
   "metadata": {},
   "outputs": [],
   "source": []
  }
 ],
 "metadata": {
  "kernelspec": {
   "display_name": "Python 3 (ipykernel)",
   "language": "python",
   "name": "python3"
  },
  "language_info": {
   "codemirror_mode": {
    "name": "ipython",
    "version": 3
   },
   "file_extension": ".py",
   "mimetype": "text/x-python",
   "name": "python",
   "nbconvert_exporter": "python",
   "pygments_lexer": "ipython3",
   "version": "3.10.6"
  }
 },
 "nbformat": 4,
 "nbformat_minor": 5
}
